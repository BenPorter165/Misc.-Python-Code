{
 "cells": [
  {
   "cell_type": "markdown",
   "metadata": {},
   "source": [
    "### Ben Porter\n",
    "### This HW is due on  11/3 at 11:59 pm\n"
   ]
  },
  {
   "cell_type": "markdown",
   "metadata": {},
   "source": [
    "This dataset is about participants who completed the personal information form and a divorce predictors scale.\n",
    "The data is a modified version of the publicly available at https://archive.ics.uci.edu/ml/datasets/Divorce+Predictors+data+set (by injecting noise so you will not replicate the results on uci web- site). There are 170 participants and 54 attributes (or predictor variables) that are all real-valued. The dataset is named as divorce.csv. The last column of the CSV file is labeled y (1 means “divorce”, 0 means “no divorce”). Each column is for one feature (predictor variable), and each row is a sample (participant). A detailed explanation for each feature (predictor variable) can be found at the website link above. "
   ]
  },
  {
   "cell_type": "markdown",
   "metadata": {},
   "source": [
    "We will be using sklearn very often from now on. Please read all about it here https://scikit-learn.org/stable/index.html"
   ]
  },
  {
   "cell_type": "code",
   "execution_count": 20,
   "metadata": {},
   "outputs": [],
   "source": [
    "import numpy as np\n",
    "import numpy.matlib\n",
    "import pandas as pd\n",
    "import matplotlib.pyplot as plt\n",
    "from mpl_toolkits.mplot3d import Axes3D\n",
    "from sklearn import preprocessing\n",
    "import seaborn as sns\n",
    "import scipy.stats as st\n",
    "import matplotlib.colors as colors\n",
    "from sklearn.model_selection import train_test_split\n",
    "from sklearn.linear_model import LogisticRegression\n",
    "from sklearn.preprocessing import StandardScaler  \n",
    "from sklearn.neighbors import KNeighborsClassifier\n",
    "from sklearn import metrics\n",
    "from sklearn.datasets import make_classification  \n",
    "from sklearn.neighbors import KNeighborsClassifier  \n",
    "from sklearn.ensemble import RandomForestClassifier  \n",
    "from sklearn.model_selection import train_test_split  \n",
    "from sklearn.metrics import roc_curve"
   ]
  },
  {
   "cell_type": "markdown",
   "metadata": {},
   "source": [
    "## Problem 1\n",
    "Please load the divorce data that is in csv form. Make sure to add Header = None when uploading it. Separate the last column as y and all other columns as x. Use all the data x and y to trian a logistic regression model using LogisticRegression function from sklearn library here\n",
    "https://scikit-learn.org/stable/modules/generated/sklearn.linear_model.LogisticRegression.html\n",
    "Once you fit the model, make predictions on the whole data set x, report the accuracy score and the confusion matrix (Will discuss these details in lecutre on Wednesday). ( 20 points)"
   ]
  },
  {
   "cell_type": "code",
   "execution_count": 21,
   "metadata": {},
   "outputs": [
    {
     "data": {
      "text/html": [
       "<div>\n",
       "<style scoped>\n",
       "    .dataframe tbody tr th:only-of-type {\n",
       "        vertical-align: middle;\n",
       "    }\n",
       "\n",
       "    .dataframe tbody tr th {\n",
       "        vertical-align: top;\n",
       "    }\n",
       "\n",
       "    .dataframe thead th {\n",
       "        text-align: right;\n",
       "    }\n",
       "</style>\n",
       "<table border=\"1\" class=\"dataframe\">\n",
       "  <thead>\n",
       "    <tr style=\"text-align: right;\">\n",
       "      <th></th>\n",
       "      <th>1.560903329457975275e+00</th>\n",
       "      <th>3.681587140954195370e+00</th>\n",
       "      <th>3.450467491475867288e+00</th>\n",
       "      <th>3.211998027924174881e+00</th>\n",
       "      <th>-1.203045479961275532e+00</th>\n",
       "      <th>5.977062062235685147e-01</th>\n",
       "      <th>-9.700933356414518371e-01</th>\n",
       "      <th>-7.509697219184643391e-01</th>\n",
       "      <th>-5.114953127313723868e-01</th>\n",
       "      <th>-1.336595873682060454e-01</th>\n",
       "      <th>...</th>\n",
       "      <th>2.077400868932536504e+00</th>\n",
       "      <th>1.184182417067693560e+00</th>\n",
       "      <th>3.955068591495561670e+00</th>\n",
       "      <th>2.608046456841787375e+00</th>\n",
       "      <th>2.303629119434309480e+00</th>\n",
       "      <th>1.721659828108589085e+00</th>\n",
       "      <th>3.275017709508405872e+00</th>\n",
       "      <th>1.761018902762238714e+00</th>\n",
       "      <th>1.215237389196598849e+00</th>\n",
       "      <th>1.000000000000000000e+00</th>\n",
       "    </tr>\n",
       "  </thead>\n",
       "  <tbody>\n",
       "    <tr>\n",
       "      <th>0</th>\n",
       "      <td>4.153272</td>\n",
       "      <td>5.173858</td>\n",
       "      <td>4.100690</td>\n",
       "      <td>2.580173</td>\n",
       "      <td>3.305788</td>\n",
       "      <td>-1.505512</td>\n",
       "      <td>-0.029398</td>\n",
       "      <td>5.702657</td>\n",
       "      <td>2.230281</td>\n",
       "      <td>4.975496</td>\n",
       "      <td>...</td>\n",
       "      <td>3.467076</td>\n",
       "      <td>2.451984</td>\n",
       "      <td>3.504294</td>\n",
       "      <td>5.324240</td>\n",
       "      <td>4.480607</td>\n",
       "      <td>5.375248</td>\n",
       "      <td>2.270379</td>\n",
       "      <td>2.167944</td>\n",
       "      <td>2.191214</td>\n",
       "      <td>1.0</td>\n",
       "    </tr>\n",
       "    <tr>\n",
       "      <th>1</th>\n",
       "      <td>2.226241</td>\n",
       "      <td>1.575322</td>\n",
       "      <td>2.389117</td>\n",
       "      <td>2.725405</td>\n",
       "      <td>-0.304562</td>\n",
       "      <td>2.832803</td>\n",
       "      <td>1.787779</td>\n",
       "      <td>0.565755</td>\n",
       "      <td>1.328212</td>\n",
       "      <td>2.335353</td>\n",
       "      <td>...</td>\n",
       "      <td>1.200917</td>\n",
       "      <td>1.241794</td>\n",
       "      <td>2.207492</td>\n",
       "      <td>1.228034</td>\n",
       "      <td>0.870052</td>\n",
       "      <td>1.685040</td>\n",
       "      <td>2.341985</td>\n",
       "      <td>-0.444320</td>\n",
       "      <td>2.527452</td>\n",
       "      <td>1.0</td>\n",
       "    </tr>\n",
       "    <tr>\n",
       "      <th>2</th>\n",
       "      <td>3.553458</td>\n",
       "      <td>2.859042</td>\n",
       "      <td>2.928414</td>\n",
       "      <td>1.833241</td>\n",
       "      <td>1.271119</td>\n",
       "      <td>4.165213</td>\n",
       "      <td>2.078597</td>\n",
       "      <td>4.506175</td>\n",
       "      <td>2.521628</td>\n",
       "      <td>2.747315</td>\n",
       "      <td>...</td>\n",
       "      <td>3.196291</td>\n",
       "      <td>2.204824</td>\n",
       "      <td>3.664982</td>\n",
       "      <td>3.689508</td>\n",
       "      <td>2.577677</td>\n",
       "      <td>3.171884</td>\n",
       "      <td>2.164660</td>\n",
       "      <td>1.813024</td>\n",
       "      <td>1.376033</td>\n",
       "      <td>1.0</td>\n",
       "    </tr>\n",
       "    <tr>\n",
       "      <th>3</th>\n",
       "      <td>0.506547</td>\n",
       "      <td>1.419223</td>\n",
       "      <td>1.716153</td>\n",
       "      <td>1.319274</td>\n",
       "      <td>2.853840</td>\n",
       "      <td>0.047412</td>\n",
       "      <td>-0.016515</td>\n",
       "      <td>0.620795</td>\n",
       "      <td>1.202992</td>\n",
       "      <td>0.078347</td>\n",
       "      <td>...</td>\n",
       "      <td>1.806657</td>\n",
       "      <td>2.085539</td>\n",
       "      <td>2.012551</td>\n",
       "      <td>1.899477</td>\n",
       "      <td>1.510134</td>\n",
       "      <td>1.373350</td>\n",
       "      <td>2.551119</td>\n",
       "      <td>0.846321</td>\n",
       "      <td>-0.066858</td>\n",
       "      <td>1.0</td>\n",
       "    </tr>\n",
       "    <tr>\n",
       "      <th>4</th>\n",
       "      <td>0.070807</td>\n",
       "      <td>1.945822</td>\n",
       "      <td>0.128738</td>\n",
       "      <td>0.624598</td>\n",
       "      <td>1.049979</td>\n",
       "      <td>1.233308</td>\n",
       "      <td>-0.450375</td>\n",
       "      <td>0.380765</td>\n",
       "      <td>-1.303766</td>\n",
       "      <td>-0.340998</td>\n",
       "      <td>...</td>\n",
       "      <td>2.490069</td>\n",
       "      <td>2.602141</td>\n",
       "      <td>-0.696861</td>\n",
       "      <td>3.281595</td>\n",
       "      <td>1.599017</td>\n",
       "      <td>1.117810</td>\n",
       "      <td>-0.068778</td>\n",
       "      <td>2.042103</td>\n",
       "      <td>0.943197</td>\n",
       "      <td>1.0</td>\n",
       "    </tr>\n",
       "  </tbody>\n",
       "</table>\n",
       "<p>5 rows × 55 columns</p>\n",
       "</div>"
      ],
      "text/plain": [
       "   1.560903329457975275e+00  3.681587140954195370e+00  \\\n",
       "0                  4.153272                  5.173858   \n",
       "1                  2.226241                  1.575322   \n",
       "2                  3.553458                  2.859042   \n",
       "3                  0.506547                  1.419223   \n",
       "4                  0.070807                  1.945822   \n",
       "\n",
       "   3.450467491475867288e+00  3.211998027924174881e+00  \\\n",
       "0                  4.100690                  2.580173   \n",
       "1                  2.389117                  2.725405   \n",
       "2                  2.928414                  1.833241   \n",
       "3                  1.716153                  1.319274   \n",
       "4                  0.128738                  0.624598   \n",
       "\n",
       "   -1.203045479961275532e+00  5.977062062235685147e-01  \\\n",
       "0                   3.305788                 -1.505512   \n",
       "1                  -0.304562                  2.832803   \n",
       "2                   1.271119                  4.165213   \n",
       "3                   2.853840                  0.047412   \n",
       "4                   1.049979                  1.233308   \n",
       "\n",
       "   -9.700933356414518371e-01  -7.509697219184643391e-01  \\\n",
       "0                  -0.029398                   5.702657   \n",
       "1                   1.787779                   0.565755   \n",
       "2                   2.078597                   4.506175   \n",
       "3                  -0.016515                   0.620795   \n",
       "4                  -0.450375                   0.380765   \n",
       "\n",
       "   -5.114953127313723868e-01  -1.336595873682060454e-01  ...  \\\n",
       "0                   2.230281                   4.975496  ...   \n",
       "1                   1.328212                   2.335353  ...   \n",
       "2                   2.521628                   2.747315  ...   \n",
       "3                   1.202992                   0.078347  ...   \n",
       "4                  -1.303766                  -0.340998  ...   \n",
       "\n",
       "   2.077400868932536504e+00  1.184182417067693560e+00  \\\n",
       "0                  3.467076                  2.451984   \n",
       "1                  1.200917                  1.241794   \n",
       "2                  3.196291                  2.204824   \n",
       "3                  1.806657                  2.085539   \n",
       "4                  2.490069                  2.602141   \n",
       "\n",
       "   3.955068591495561670e+00  2.608046456841787375e+00  \\\n",
       "0                  3.504294                  5.324240   \n",
       "1                  2.207492                  1.228034   \n",
       "2                  3.664982                  3.689508   \n",
       "3                  2.012551                  1.899477   \n",
       "4                 -0.696861                  3.281595   \n",
       "\n",
       "   2.303629119434309480e+00  1.721659828108589085e+00  \\\n",
       "0                  4.480607                  5.375248   \n",
       "1                  0.870052                  1.685040   \n",
       "2                  2.577677                  3.171884   \n",
       "3                  1.510134                  1.373350   \n",
       "4                  1.599017                  1.117810   \n",
       "\n",
       "   3.275017709508405872e+00  1.761018902762238714e+00  \\\n",
       "0                  2.270379                  2.167944   \n",
       "1                  2.341985                 -0.444320   \n",
       "2                  2.164660                  1.813024   \n",
       "3                  2.551119                  0.846321   \n",
       "4                 -0.068778                  2.042103   \n",
       "\n",
       "   1.215237389196598849e+00  1.000000000000000000e+00  \n",
       "0                  2.191214                       1.0  \n",
       "1                  2.527452                       1.0  \n",
       "2                  1.376033                       1.0  \n",
       "3                 -0.066858                       1.0  \n",
       "4                  0.943197                       1.0  \n",
       "\n",
       "[5 rows x 55 columns]"
      ]
     },
     "execution_count": 21,
     "metadata": {},
     "output_type": "execute_result"
    }
   ],
   "source": [
    "divorce= pd.read_csv('divorce.csv')\n",
    "Header = None\n",
    "divorce.head()"
   ]
  },
  {
   "cell_type": "code",
   "execution_count": 22,
   "metadata": {},
   "outputs": [],
   "source": [
    "x=divorce.iloc[:,0:53]\n",
    "y=divorce.iloc[:,54]"
   ]
  },
  {
   "cell_type": "code",
   "execution_count": 23,
   "metadata": {},
   "outputs": [
    {
     "name": "stderr",
     "output_type": "stream",
     "text": [
      "C:\\Users\\bman1\\Anaconda3\\lib\\site-packages\\sklearn\\linear_model\\logistic.py:432: FutureWarning: Default solver will be changed to 'lbfgs' in 0.22. Specify a solver to silence this warning.\n",
      "  FutureWarning)\n"
     ]
    }
   ],
   "source": [
    "train, test = train_test_split(divorce,test_size=0.25, random_state=0)\n",
    "logisticRegr = LogisticRegression()\n",
    "logisticRegr.fit(x,y)\n",
    "predictions = logisticRegr.predict(test.iloc[:,0:53])\n",
    "conf = metrics.confusion_matrix(test.iloc[:,54], predictions)"
   ]
  },
  {
   "cell_type": "code",
   "execution_count": 24,
   "metadata": {},
   "outputs": [
    {
     "data": {
      "text/plain": [
       "LogisticRegression(C=1.0, class_weight=None, dual=False, fit_intercept=True,\n",
       "                   intercept_scaling=1, l1_ratio=None, max_iter=100,\n",
       "                   multi_class='warn', n_jobs=None, penalty='l2',\n",
       "                   random_state=None, solver='warn', tol=0.0001, verbose=0,\n",
       "                   warm_start=False)"
      ]
     },
     "execution_count": 24,
     "metadata": {},
     "output_type": "execute_result"
    }
   ],
   "source": [
    "logisticRegr"
   ]
  },
  {
   "cell_type": "code",
   "execution_count": 25,
   "metadata": {},
   "outputs": [
    {
     "data": {
      "text/plain": [
       "array([[24,  0],\n",
       "       [ 0, 19]], dtype=int64)"
      ]
     },
     "execution_count": 25,
     "metadata": {},
     "output_type": "execute_result"
    }
   ],
   "source": [
    "conf"
   ]
  },
  {
   "cell_type": "code",
   "execution_count": 26,
   "metadata": {},
   "outputs": [
    {
     "data": {
      "text/plain": [
       "array([0., 1., 0., 1., 0., 1., 1., 1., 0., 0., 1., 0., 0., 0., 1., 1., 1.,\n",
       "       0., 0., 0., 0., 0., 0., 0., 1., 0., 1., 0., 0., 1., 1., 0., 0., 1.,\n",
       "       1., 1., 1., 1., 0., 1., 0., 0., 0.])"
      ]
     },
     "execution_count": 26,
     "metadata": {},
     "output_type": "execute_result"
    }
   ],
   "source": [
    "predictions"
   ]
  },
  {
   "cell_type": "markdown",
   "metadata": {},
   "source": [
    "### Problem 2\n",
    "Now repeat problem 1 by splitting the data by 80, 20 rule. Please report your accuracy rate and confusion matrix for both the test and the train set. (20 points)"
   ]
  },
  {
   "cell_type": "code",
   "execution_count": 28,
   "metadata": {},
   "outputs": [
    {
     "name": "stderr",
     "output_type": "stream",
     "text": [
      "C:\\Users\\bman1\\Anaconda3\\lib\\site-packages\\sklearn\\linear_model\\logistic.py:432: FutureWarning: Default solver will be changed to 'lbfgs' in 0.22. Specify a solver to silence this warning.\n",
      "  FutureWarning)\n"
     ]
    }
   ],
   "source": [
    "train1, test1 = train_test_split(divorce,test_size=0.20, random_state=0)\n",
    "logisticRegr1 = LogisticRegression()\n",
    "logisticRegr1.fit(x,y)\n",
    "predictions = logisticRegr1.predict(test1.iloc[:,0:53])\n",
    "conf1 = metrics.confusion_matrix(test1.iloc[:,54], predictions)\n"
   ]
  },
  {
   "cell_type": "code",
   "execution_count": 35,
   "metadata": {},
   "outputs": [
    {
     "data": {
      "text/plain": [
       "LogisticRegression(C=1.0, class_weight=None, dual=False, fit_intercept=True,\n",
       "                   intercept_scaling=1, l1_ratio=None, max_iter=100,\n",
       "                   multi_class='warn', n_jobs=None, penalty='l2',\n",
       "                   random_state=None, solver='warn', tol=0.0001, verbose=0,\n",
       "                   warm_start=False)"
      ]
     },
     "execution_count": 35,
     "metadata": {},
     "output_type": "execute_result"
    }
   ],
   "source": [
    "logisticRegr"
   ]
  },
  {
   "cell_type": "code",
   "execution_count": 36,
   "metadata": {},
   "outputs": [
    {
     "data": {
      "text/plain": [
       "array([[20,  0],\n",
       "       [ 0, 14]], dtype=int64)"
      ]
     },
     "execution_count": 36,
     "metadata": {},
     "output_type": "execute_result"
    }
   ],
   "source": [
    "conf1"
   ]
  },
  {
   "cell_type": "markdown",
   "metadata": {},
   "source": [
    "### Problem 3\n",
    "Out of 54 features, choose only 40 that are most improtant. Retrain the logistic model by splitting it to 70, 30. You decide how you want to pick 40 important features. Looking at statmodels summary is one way. Sklearn has a feature slection function too, check it out. https://scikit-learn.org/stable/modules/feature_selection.html. Report the accuracy and the confusion matrix. (20 points)"
   ]
  },
  {
   "cell_type": "code",
   "execution_count": 38,
   "metadata": {},
   "outputs": [],
   "source": [
    "x1=divorce.iloc[:,0:39]"
   ]
  },
  {
   "cell_type": "code",
   "execution_count": 40,
   "metadata": {},
   "outputs": [
    {
     "name": "stderr",
     "output_type": "stream",
     "text": [
      "C:\\Users\\bman1\\Anaconda3\\lib\\site-packages\\sklearn\\linear_model\\logistic.py:432: FutureWarning: Default solver will be changed to 'lbfgs' in 0.22. Specify a solver to silence this warning.\n",
      "  FutureWarning)\n"
     ]
    }
   ],
   "source": [
    "train2, test2 = train_test_split(divorce,test_size=0.30, random_state=0)\n",
    "logisticRegr2 = LogisticRegression()\n",
    "logisticRegr2.fit(x1,y)\n",
    "predictions2 = logisticRegr2.predict(test2.iloc[:,0:39])\n",
    "conf2 = metrics.confusion_matrix(test2.iloc[:,54], predictions2)"
   ]
  },
  {
   "cell_type": "code",
   "execution_count": 41,
   "metadata": {},
   "outputs": [
    {
     "data": {
      "text/plain": [
       "LogisticRegression(C=1.0, class_weight=None, dual=False, fit_intercept=True,\n",
       "                   intercept_scaling=1, l1_ratio=None, max_iter=100,\n",
       "                   multi_class='warn', n_jobs=None, penalty='l2',\n",
       "                   random_state=None, solver='warn', tol=0.0001, verbose=0,\n",
       "                   warm_start=False)"
      ]
     },
     "execution_count": 41,
     "metadata": {},
     "output_type": "execute_result"
    }
   ],
   "source": [
    "logisticRegr2"
   ]
  },
  {
   "cell_type": "code",
   "execution_count": 42,
   "metadata": {},
   "outputs": [
    {
     "data": {
      "text/plain": [
       "array([[27,  0],\n",
       "       [ 0, 24]], dtype=int64)"
      ]
     },
     "execution_count": 42,
     "metadata": {},
     "output_type": "execute_result"
    }
   ],
   "source": [
    "conf2"
   ]
  },
  {
   "cell_type": "markdown",
   "metadata": {},
   "source": [
    "I was unsure of how to find the 40 most important so I used the first 40."
   ]
  },
  {
   "cell_type": "markdown",
   "metadata": {},
   "source": [
    "### Problem 4\n",
    "In this problem, pick only the first two features and retrain the logistic regression model. Write out the accuracy and confusion matrix. (20 points)"
   ]
  },
  {
   "cell_type": "code",
   "execution_count": 44,
   "metadata": {},
   "outputs": [],
   "source": [
    "x2= divorce.iloc[:,0:1]"
   ]
  },
  {
   "cell_type": "code",
   "execution_count": 45,
   "metadata": {},
   "outputs": [
    {
     "name": "stderr",
     "output_type": "stream",
     "text": [
      "C:\\Users\\bman1\\Anaconda3\\lib\\site-packages\\sklearn\\linear_model\\logistic.py:432: FutureWarning: Default solver will be changed to 'lbfgs' in 0.22. Specify a solver to silence this warning.\n",
      "  FutureWarning)\n"
     ]
    }
   ],
   "source": [
    "train3, test3 = train_test_split(divorce,test_size=0.30, random_state=0)\n",
    "logisticRegr3 = LogisticRegression()\n",
    "logisticRegr3.fit(x2,y)\n",
    "predictions3 = logisticRegr3.predict(test3.iloc[:,0:1])\n",
    "conf3 = metrics.confusion_matrix(test3.iloc[:,54], predictions3)"
   ]
  },
  {
   "cell_type": "code",
   "execution_count": 46,
   "metadata": {},
   "outputs": [
    {
     "data": {
      "text/plain": [
       "LogisticRegression(C=1.0, class_weight=None, dual=False, fit_intercept=True,\n",
       "                   intercept_scaling=1, l1_ratio=None, max_iter=100,\n",
       "                   multi_class='warn', n_jobs=None, penalty='l2',\n",
       "                   random_state=None, solver='warn', tol=0.0001, verbose=0,\n",
       "                   warm_start=False)"
      ]
     },
     "execution_count": 46,
     "metadata": {},
     "output_type": "execute_result"
    }
   ],
   "source": [
    "logisticRegr3"
   ]
  },
  {
   "cell_type": "code",
   "execution_count": 47,
   "metadata": {},
   "outputs": [
    {
     "data": {
      "text/plain": [
       "array([[23,  4],\n",
       "       [ 2, 22]], dtype=int64)"
      ]
     },
     "execution_count": 47,
     "metadata": {},
     "output_type": "execute_result"
    }
   ],
   "source": [
    "conf3"
   ]
  },
  {
   "cell_type": "markdown",
   "metadata": {},
   "source": [
    "### Problem 5\n",
    "Make a plot of decision boundary given by your model in problem 4. You will have two plots. One plot is with the  training data and the decision boundary and the other one is with the testing data and the decision boundary. Label x axis as Featur 0  and y-axis as Feature 1. In the plot, points from test data will be classified with different colors and are separated by the decision boundary line.\n",
    "(20 points)"
   ]
  },
  {
   "cell_type": "code",
   "execution_count": 63,
   "metadata": {},
   "outputs": [
    {
     "data": {
      "text/plain": [
       "Text(0, 0.5, 'Feature 1')"
      ]
     },
     "execution_count": 63,
     "metadata": {},
     "output_type": "execute_result"
    },
    {
     "data": {
      "image/png": "[encoded data removed]",
      "text/plain": [
       "<Figure size 432x288 with 1 Axes>"
      ]
     },
     "metadata": {
      "needs_background": "light"
     },
     "output_type": "display_data"
    }
   ],
   "source": [
    "train3.plot.scatter(0, 54)\n",
    "plt.xlabel('Feature 0')\n",
    "plt.ylabel('Feature 1')\n"
   ]
  },
  {
   "cell_type": "code",
   "execution_count": 64,
   "metadata": {},
   "outputs": [
    {
     "data": {
      "text/plain": [
       "Text(0, 0.5, 'Feature 1')"
      ]
     },
     "execution_count": 64,
     "metadata": {},
     "output_type": "execute_result"
    },
    {
     "data": {
      "image/png": "[encoded data removed]",
      "text/plain": [
       "<Figure size 432x288 with 1 Axes>"
      ]
     },
     "metadata": {
      "needs_background": "light"
     },
     "output_type": "display_data"
    }
   ],
   "source": [
    "test3.plot.scatter(0, 54)\n",
    "plt.xlabel('Feature 0')\n",
    "plt.ylabel('Feature 1')"
   ]
  }
 ],
 "metadata": {
  "kernelspec": {
   "display_name": "Python 3",
   "language": "python",
   "name": "python3"
  },
  "language_info": {
   "codemirror_mode": {
    "name": "ipython",
    "version": 3
   },
   "file_extension": ".py",
   "mimetype": "text/x-python",
   "name": "python",
   "nbconvert_exporter": "python",
   "pygments_lexer": "ipython3",
   "version": "3.7.3"
  }
 },
 "nbformat": 4,
 "nbformat_minor": 2
}
