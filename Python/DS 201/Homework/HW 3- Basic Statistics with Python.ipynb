{
 "cells": [
  {
   "cell_type": "markdown",
   "metadata": {},
   "source": [
    "# This homework is due on 9/22 Sunday at 11:59 pm"
   ]
  },
  {
   "cell_type": "markdown",
   "metadata": {},
   "source": [
    "This homework explores ways to calculate basic statistics we did in our lectures this week. We will be using python to calculate central tendencies( mean, median and mode) and other measures. We will be using a csv data set called grbooks. Before starting this homework, please follow this link \n",
    "https://www.kaggle.com/jealousleopard/goodreadsbooks and read more about this good read books data set from kagale.  kaggle is a very popular data science competition platform and it is a good resource for any budding Data Scientinst. \n",
    "\n",
    "Caution: Do not download books data from kaggle. Books data has been modified to suit our need. Please use the data I provided with this homework."
   ]
  },
  {
   "cell_type": "markdown",
   "metadata": {},
   "source": [
    "Please import appropriate libraries ( pandas, matplotlib, numpy etc.) and load the data in jupyter notebook. This data set has 22891 rows and 20 columns. Please do not show it all in the solution. If you need to see how data looks like, just use code to see head or tail of the data."
   ]
  },
  {
   "cell_type": "markdown",
   "metadata": {},
   "source": [
    "### Problem 1\n",
    "Use only  a few columns(mostly numerical) in the following list (do not change the order of items in the list)"
   ]
  },
  {
   "cell_type": "code",
   "execution_count": 37,
   "metadata": {},
   "outputs": [],
   "source": [
    "cols=['author_name','book_title', 'book_average_rating', 'num_ratings', 'num_reviews',\n",
    "      'pages', 'score']"
   ]
  },
  {
   "cell_type": "markdown",
   "metadata": {},
   "source": [
    "to create a new dataframe and use the code  yourdf.describe() to display the summary of the data. ( 20 points)"
   ]
  },
  {
   "cell_type": "markdown",
   "metadata": {},
   "source": [
    "### Problem 2\n",
    "Use the following code (except the hash sign)"
   ]
  },
  {
   "cell_type": "code",
   "execution_count": 38,
   "metadata": {},
   "outputs": [],
   "source": [
    "# yourdf.columnname.median() for an indivisual column or use yourdf.median() \n",
    "#for the whole data"
   ]
  },
  {
   "cell_type": "markdown",
   "metadata": {},
   "source": [
    "to find medians of all the numerical columns (except book name and author name and pages). ( 20 points) "
   ]
  },
  {
   "cell_type": "markdown",
   "metadata": {},
   "source": [
    "### Problem 3 \n",
    "Find the modes of all the numerical column. You can just replace median() in problem 2 code by mode(). Make sure to do it for indivisual columns. ( 20 points)"
   ]
  },
  {
   "cell_type": "markdown",
   "metadata": {},
   "source": [
    "### Problem 4\n",
    "A distribution (here it is one of the numerical column) in which the values of mean, median and mode coincide (i.e. mean = median = mode) is known as a symmetrical distribution (a perfect data set). Conversely, when values of mean, median and mode are not equal the distribution is known as asymmetrical or skewed distribution. In moderately skewed or asymmetrical distribution a very important relationship exists among these three measures of central tendency. In such distributions the distance between the mean and median is about one-third of the distance between the mean and mode. Karl Pearson, a reknowned statistician, expressed this relationship as:\n",
    "Mode = 3 median - 2 mean\n",
    "\n",
    "![](mcube.png) \n",
    "\n",
    "Here is how you will test our each columns as a data in this dataframe are close to being summetric or assymetric. \n",
    "\n",
    "Find Mode - 3 Median - 2 Mean for all the columns  except author name, book name and page. You can use the code "
   ]
  },
  {
   "cell_type": "code",
   "execution_count": null,
   "metadata": {},
   "outputs": [],
   "source": [
    "# yourdf.columnname.mode()-  3 * yourdf.columnname.median() - 2 * yourdf.columnname.mean()"
   ]
  },
  {
   "cell_type": "markdown",
   "metadata": {},
   "source": [
    "If this number is close to 0, the column data is close to being symmetric and if it is far from 0 ( positive or negative), the column data is assymetric. Which columns are closer to being symmetric and which one is most assymetric. ( 20 points)"
   ]
  },
  {
   "cell_type": "markdown",
   "metadata": {},
   "source": [
    "### Problem 5\n",
    "We can use sample function from pandas to randomly select only some rows from our data frame.\n",
    "More about sample function is explained here.\n",
    "https://pandas.pydata.org/pandas-docs/stable/reference/api/pandas.DataFrame.sample.html\n",
    "Use the code"
   ]
  },
  {
   "cell_type": "code",
   "execution_count": 73,
   "metadata": {},
   "outputs": [],
   "source": [
    "# yourdf.sample(100) to get only 100 rows of data out of 22891 rows. \n",
    "#Give a new name to this data"
   ]
  },
  {
   "cell_type": "markdown",
   "metadata": {},
   "source": [
    "Use yournewdf.describe() to find out the summary of this new data set. Compare the means of  4 columns displaced here with the means of 4 columns displayed in problem 1. Which ones are closer (meaning that which one of the variable is better off sampling with just 100 data points) ( 20 points)"
   ]
  },
  {
   "cell_type": "markdown",
   "metadata": {},
   "source": [
    "### Problem 6 (Bonus 10 points)\n",
    "You may have noticed that the column pages seem to have numerical looking values but it is not showing up in our data summary. This is because this columns appears to be a string in our data set. Data values in this columns are just total number of pages in each book and these should be numbers not strings. Change this column from string to numeric and find mean, median and mode for this columns."
   ]
  },
  {
   "cell_type": "code",
   "execution_count": null,
   "metadata": {},
   "outputs": [],
   "source": []
  }
 ],
 "metadata": {
  "kernelspec": {
   "display_name": "Python 3",
   "language": "python",
   "name": "python3"
  },
  "language_info": {
   "codemirror_mode": {
    "name": "ipython",
    "version": 3
   },
   "file_extension": ".py",
   "mimetype": "text/x-python",
   "name": "python",
   "nbconvert_exporter": "python",
   "pygments_lexer": "ipython3",
   "version": "3.7.3"
  }
 },
 "nbformat": 4,
 "nbformat_minor": 2
}
