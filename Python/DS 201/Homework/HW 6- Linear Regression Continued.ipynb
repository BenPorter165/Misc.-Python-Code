{
 "cells": [
  {
   "cell_type": "markdown",
   "metadata": {},
   "source": [
    "### Ben Porter\n",
    "### This HW is due on  10/27 at 11:59 pm\n",
    "We are using the same data as in Lab 6."
   ]
  },
  {
   "cell_type": "markdown",
   "metadata": {},
   "source": [
    "The data set called Highway1 (used by  by Carl Hoffstedt in his paper: https://rdrr.io/rforge/alr4/man/Highway1.html) relate the automobile accident rate, in accidents per million vehicle miles to several potential terms. The data include 39 sections of large Highways in the state of Minnesota in 1973. The goal of this analysis is to see how the rate variable are affetcted by some of the variables that are highly correlated with the rate and finding out which ones affect the rate variable the most."
   ]
  },
  {
   "cell_type": "markdown",
   "metadata": {},
   "source": [
    "This data frame contains the following columns:\n",
    "\n",
    "adt - average daily traffic count in thousands\n",
    "\n",
    "trks - truck volume as a percent of the total volume\n",
    "\n",
    "lane - total number of lanes of traffic\n",
    "\n",
    "acpt - number of access points per mile\n",
    "\n",
    "sigs - number of signalized interchanges per mile\n",
    "\n",
    "itg - number of freeway-type interchanges per mile\n",
    "\n",
    "slim - speed limit in 1973\n",
    "\n",
    "len - length of the Highway segment in miles\n",
    "\n",
    "lwid - lane width, in feet\n",
    "\n",
    "shld - width in feet of outer shoulder on the roadway\n",
    "\n",
    "htype - An indicator of the type of roadway or the source of funding for the road; \"mc\" for major collector, \"fai\" for Federal interstate highways, \"pa\" for principal arterial highway, and \"ma\" for major arterial highways\n",
    "\n",
    "rate - 1973 accident rate per million vehicle miles"
   ]
  },
  {
   "cell_type": "code",
   "execution_count": 52,
   "metadata": {},
   "outputs": [],
   "source": [
    "import pandas as pd\n",
    "import numpy as np\n",
    "import matplotlib as mpt\n",
    "import matplotlib.pyplot as plt\n",
    "import seaborn as sns\n",
    "import statsmodels.api as sm\n",
    "highway1 = pd.read_csv('Highway1.csv')"
   ]
  },
  {
   "cell_type": "markdown",
   "metadata": {},
   "source": [
    "## Problem 1\n",
    "This data came from R package which uses index starting at 1 unlike in python where indices  start at 0. When  you upload highway1 data to jupyter notebook, you will see an unnecessory column that says column 0. Find and remove it. Train a Leanear Regression model with Rate as a dependent variable and 10 numerical variables as features.\n",
    "Write the regression equation and report the $R^2$ value in %. See how to use statmodels for this. https://www.statsmodels.org/dev/generated/statsmodels.regression.linear_model.OLS.html (20 points)\n"
   ]
  },
  {
   "cell_type": "code",
   "execution_count": 24,
   "metadata": {},
   "outputs": [
    {
     "data": {
      "text/html": [
       "<div>\n",
       "<style scoped>\n",
       "    .dataframe tbody tr th:only-of-type {\n",
       "        vertical-align: middle;\n",
       "    }\n",
       "\n",
       "    .dataframe tbody tr th {\n",
       "        vertical-align: top;\n",
       "    }\n",
       "\n",
       "    .dataframe thead th {\n",
       "        text-align: right;\n",
       "    }\n",
       "</style>\n",
       "<table border=\"1\" class=\"dataframe\">\n",
       "  <thead>\n",
       "    <tr style=\"text-align: right;\">\n",
       "      <th></th>\n",
       "      <th>rate</th>\n",
       "      <th>len</th>\n",
       "      <th>ADT</th>\n",
       "      <th>trks</th>\n",
       "      <th>sigs1</th>\n",
       "      <th>slim</th>\n",
       "      <th>shld</th>\n",
       "      <th>lane</th>\n",
       "      <th>acpt</th>\n",
       "      <th>itg</th>\n",
       "      <th>lwid</th>\n",
       "      <th>hwy</th>\n",
       "    </tr>\n",
       "  </thead>\n",
       "  <tbody>\n",
       "    <tr>\n",
       "      <th>0</th>\n",
       "      <td>4.58</td>\n",
       "      <td>4.99</td>\n",
       "      <td>69</td>\n",
       "      <td>8</td>\n",
       "      <td>0.200401</td>\n",
       "      <td>55</td>\n",
       "      <td>10</td>\n",
       "      <td>8</td>\n",
       "      <td>4.6</td>\n",
       "      <td>1.20</td>\n",
       "      <td>12</td>\n",
       "      <td>FAI</td>\n",
       "    </tr>\n",
       "    <tr>\n",
       "      <th>1</th>\n",
       "      <td>2.86</td>\n",
       "      <td>16.11</td>\n",
       "      <td>73</td>\n",
       "      <td>8</td>\n",
       "      <td>0.062073</td>\n",
       "      <td>60</td>\n",
       "      <td>10</td>\n",
       "      <td>4</td>\n",
       "      <td>4.4</td>\n",
       "      <td>1.43</td>\n",
       "      <td>12</td>\n",
       "      <td>FAI</td>\n",
       "    </tr>\n",
       "    <tr>\n",
       "      <th>2</th>\n",
       "      <td>3.02</td>\n",
       "      <td>9.75</td>\n",
       "      <td>49</td>\n",
       "      <td>10</td>\n",
       "      <td>0.102564</td>\n",
       "      <td>60</td>\n",
       "      <td>10</td>\n",
       "      <td>4</td>\n",
       "      <td>4.7</td>\n",
       "      <td>1.54</td>\n",
       "      <td>12</td>\n",
       "      <td>FAI</td>\n",
       "    </tr>\n",
       "    <tr>\n",
       "      <th>3</th>\n",
       "      <td>2.29</td>\n",
       "      <td>10.65</td>\n",
       "      <td>61</td>\n",
       "      <td>13</td>\n",
       "      <td>0.093897</td>\n",
       "      <td>65</td>\n",
       "      <td>10</td>\n",
       "      <td>6</td>\n",
       "      <td>3.8</td>\n",
       "      <td>0.94</td>\n",
       "      <td>12</td>\n",
       "      <td>FAI</td>\n",
       "    </tr>\n",
       "    <tr>\n",
       "      <th>4</th>\n",
       "      <td>1.61</td>\n",
       "      <td>20.01</td>\n",
       "      <td>28</td>\n",
       "      <td>12</td>\n",
       "      <td>0.049975</td>\n",
       "      <td>70</td>\n",
       "      <td>10</td>\n",
       "      <td>4</td>\n",
       "      <td>2.2</td>\n",
       "      <td>0.65</td>\n",
       "      <td>12</td>\n",
       "      <td>FAI</td>\n",
       "    </tr>\n",
       "  </tbody>\n",
       "</table>\n",
       "</div>"
      ],
      "text/plain": [
       "   rate    len  ADT  trks     sigs1  slim  shld  lane  acpt   itg  lwid  hwy\n",
       "0  4.58   4.99   69     8  0.200401    55    10     8   4.6  1.20    12  FAI\n",
       "1  2.86  16.11   73     8  0.062073    60    10     4   4.4  1.43    12  FAI\n",
       "2  3.02   9.75   49    10  0.102564    60    10     4   4.7  1.54    12  FAI\n",
       "3  2.29  10.65   61    13  0.093897    65    10     6   3.8  0.94    12  FAI\n",
       "4  1.61  20.01   28    12  0.049975    70    10     4   2.2  0.65    12  FAI"
      ]
     },
     "execution_count": 24,
     "metadata": {},
     "output_type": "execute_result"
    }
   ],
   "source": [
    "hwy1=highway1.drop(hwy1.columns[0],axis=1)\n",
    "hwy1.head()"
   ]
  },
  {
   "cell_type": "code",
   "execution_count": 25,
   "metadata": {},
   "outputs": [
    {
     "data": {
      "text/html": [
       "<table class=\"simpletable\">\n",
       "<caption>OLS Regression Results</caption>\n",
       "<tr>\n",
       "  <th>Dep. Variable:</th>          <td>rate</td>       <th>  R-squared (uncentered):</th>      <td>   0.940</td>\n",
       "</tr>\n",
       "<tr>\n",
       "  <th>Model:</th>                   <td>OLS</td>       <th>  Adj. R-squared (uncentered):</th> <td>   0.920</td>\n",
       "</tr>\n",
       "<tr>\n",
       "  <th>Method:</th>             <td>Least Squares</td>  <th>  F-statistic:       </th>          <td>   45.72</td>\n",
       "</tr>\n",
       "<tr>\n",
       "  <th>Date:</th>             <td>Sun, 27 Oct 2019</td> <th>  Prob (F-statistic):</th>          <td>4.83e-15</td>\n",
       "</tr>\n",
       "<tr>\n",
       "  <th>Time:</th>                 <td>16:55:27</td>     <th>  Log-Likelihood:    </th>          <td> -58.098</td>\n",
       "</tr>\n",
       "<tr>\n",
       "  <th>No. Observations:</th>      <td>    39</td>      <th>  AIC:               </th>          <td>   136.2</td>\n",
       "</tr>\n",
       "<tr>\n",
       "  <th>Df Residuals:</th>          <td>    29</td>      <th>  BIC:               </th>          <td>   152.8</td>\n",
       "</tr>\n",
       "<tr>\n",
       "  <th>Df Model:</th>              <td>    10</td>      <th>                     </th>              <td> </td>   \n",
       "</tr>\n",
       "<tr>\n",
       "  <th>Covariance Type:</th>      <td>nonrobust</td>    <th>                     </th>              <td> </td>   \n",
       "</tr>\n",
       "</table>\n",
       "<table class=\"simpletable\">\n",
       "<tr>\n",
       "    <td></td>       <th>coef</th>     <th>std err</th>      <th>t</th>      <th>P>|t|</th>  <th>[0.025</th>    <th>0.975]</th>  \n",
       "</tr>\n",
       "<tr>\n",
       "  <th>len</th>   <td>   -0.0428</td> <td>    0.034</td> <td>   -1.266</td> <td> 0.216</td> <td>   -0.112</td> <td>    0.026</td>\n",
       "</tr>\n",
       "<tr>\n",
       "  <th>ADT</th>   <td>    0.0007</td> <td>    0.034</td> <td>    0.020</td> <td> 0.984</td> <td>   -0.069</td> <td>    0.070</td>\n",
       "</tr>\n",
       "<tr>\n",
       "  <th>trks</th>  <td>   -0.0740</td> <td>    0.107</td> <td>   -0.693</td> <td> 0.494</td> <td>   -0.293</td> <td>    0.145</td>\n",
       "</tr>\n",
       "<tr>\n",
       "  <th>sigs1</th> <td>    0.4883</td> <td>    0.427</td> <td>    1.144</td> <td> 0.262</td> <td>   -0.385</td> <td>    1.361</td>\n",
       "</tr>\n",
       "<tr>\n",
       "  <th>slim</th>  <td>   -0.0326</td> <td>    0.065</td> <td>   -0.501</td> <td> 0.620</td> <td>   -0.166</td> <td>    0.101</td>\n",
       "</tr>\n",
       "<tr>\n",
       "  <th>shld</th>  <td>   -0.0755</td> <td>    0.114</td> <td>   -0.663</td> <td> 0.513</td> <td>   -0.308</td> <td>    0.157</td>\n",
       "</tr>\n",
       "<tr>\n",
       "  <th>lane</th>  <td>    0.0426</td> <td>    0.291</td> <td>    0.147</td> <td> 0.884</td> <td>   -0.552</td> <td>    0.637</td>\n",
       "</tr>\n",
       "<tr>\n",
       "  <th>acpt</th>  <td>    0.1095</td> <td>    0.031</td> <td>    3.516</td> <td> 0.001</td> <td>    0.046</td> <td>    0.173</td>\n",
       "</tr>\n",
       "<tr>\n",
       "  <th>itg</th>   <td>    0.2462</td> <td>    1.203</td> <td>    0.205</td> <td> 0.839</td> <td>   -2.215</td> <td>    2.708</td>\n",
       "</tr>\n",
       "<tr>\n",
       "  <th>lwid</th>  <td>    0.4749</td> <td>    0.269</td> <td>    1.768</td> <td> 0.088</td> <td>   -0.074</td> <td>    1.024</td>\n",
       "</tr>\n",
       "</table>\n",
       "<table class=\"simpletable\">\n",
       "<tr>\n",
       "  <th>Omnibus:</th>       <td> 0.434</td> <th>  Durbin-Watson:     </th> <td>   2.541</td>\n",
       "</tr>\n",
       "<tr>\n",
       "  <th>Prob(Omnibus):</th> <td> 0.805</td> <th>  Jarque-Bera (JB):  </th> <td>   0.466</td>\n",
       "</tr>\n",
       "<tr>\n",
       "  <th>Skew:</th>          <td> 0.228</td> <th>  Prob(JB):          </th> <td>   0.792</td>\n",
       "</tr>\n",
       "<tr>\n",
       "  <th>Kurtosis:</th>      <td> 2.720</td> <th>  Cond. No.          </th> <td>    386.</td>\n",
       "</tr>\n",
       "</table><br/><br/>Warnings:<br/>[1] Standard Errors assume that the covariance matrix of the errors is correctly specified."
      ],
      "text/plain": [
       "<class 'statsmodels.iolib.summary.Summary'>\n",
       "\"\"\"\n",
       "                                 OLS Regression Results                                \n",
       "=======================================================================================\n",
       "Dep. Variable:                   rate   R-squared (uncentered):                   0.940\n",
       "Model:                            OLS   Adj. R-squared (uncentered):              0.920\n",
       "Method:                 Least Squares   F-statistic:                              45.72\n",
       "Date:                Sun, 27 Oct 2019   Prob (F-statistic):                    4.83e-15\n",
       "Time:                        16:55:27   Log-Likelihood:                         -58.098\n",
       "No. Observations:                  39   AIC:                                      136.2\n",
       "Df Residuals:                      29   BIC:                                      152.8\n",
       "Df Model:                          10                                                  \n",
       "Covariance Type:            nonrobust                                                  \n",
       "==============================================================================\n",
       "                 coef    std err          t      P>|t|      [0.025      0.975]\n",
       "------------------------------------------------------------------------------\n",
       "len           -0.0428      0.034     -1.266      0.216      -0.112       0.026\n",
       "ADT            0.0007      0.034      0.020      0.984      -0.069       0.070\n",
       "trks          -0.0740      0.107     -0.693      0.494      -0.293       0.145\n",
       "sigs1          0.4883      0.427      1.144      0.262      -0.385       1.361\n",
       "slim          -0.0326      0.065     -0.501      0.620      -0.166       0.101\n",
       "shld          -0.0755      0.114     -0.663      0.513      -0.308       0.157\n",
       "lane           0.0426      0.291      0.147      0.884      -0.552       0.637\n",
       "acpt           0.1095      0.031      3.516      0.001       0.046       0.173\n",
       "itg            0.2462      1.203      0.205      0.839      -2.215       2.708\n",
       "lwid           0.4749      0.269      1.768      0.088      -0.074       1.024\n",
       "==============================================================================\n",
       "Omnibus:                        0.434   Durbin-Watson:                   2.541\n",
       "Prob(Omnibus):                  0.805   Jarque-Bera (JB):                0.466\n",
       "Skew:                           0.228   Prob(JB):                        0.792\n",
       "Kurtosis:                       2.720   Cond. No.                         386.\n",
       "==============================================================================\n",
       "\n",
       "Warnings:\n",
       "[1] Standard Errors assume that the covariance matrix of the errors is correctly specified.\n",
       "\"\"\""
      ]
     },
     "execution_count": 25,
     "metadata": {},
     "output_type": "execute_result"
    }
   ],
   "source": [
    "X=hwy1[['len','ADT','trks','sigs1','slim','shld','lane','acpt','itg','lwid']]\n",
    "y=hwy1[['rate']]\n",
    "df=sm.OLS(y, X).fit()\n",
    "df.summary()"
   ]
  },
  {
   "cell_type": "markdown",
   "metadata": {},
   "source": [
    "Formula= Rate~len + ADT + trks + sigs1 + slim + shld + lane + acpt + itg + lwid\n",
    "\n",
    "R^2= 92%"
   ]
  },
  {
   "cell_type": "markdown",
   "metadata": {},
   "source": [
    "### Problem 2\n",
    "In the summary of the model you did in problem 1, you will see all the variables labeled as x1 to x10. Here, x1 is 'len' and x2 is 'ADT' etc.  You will also see the corresponding p-values labeld as $p>|t|$. If the p value of one of the variable x is, say, 0.951 then it means that the probability of the variable x being 0 or close to 0 is 95.1%. This says that the variable x is not contributuing much in defining the regression equation. Read more here on how to interpret the regression output.\n",
    "https://stats.idre.ucla.edu/stata/output/regression-analysis-2/\n",
    " Remove variables whose p-values are greater than 90%. And retrain the regression model. Write out the regression equation, together with $R^2$. (20 points)"
   ]
  },
  {
   "cell_type": "code",
   "execution_count": 26,
   "metadata": {},
   "outputs": [
    {
     "data": {
      "text/html": [
       "<table class=\"simpletable\">\n",
       "<caption>OLS Regression Results</caption>\n",
       "<tr>\n",
       "  <th>Dep. Variable:</th>          <td>rate</td>       <th>  R-squared (uncentered):</th>      <td>   0.940</td>\n",
       "</tr>\n",
       "<tr>\n",
       "  <th>Model:</th>                   <td>OLS</td>       <th>  Adj. R-squared (uncentered):</th> <td>   0.922</td>\n",
       "</tr>\n",
       "<tr>\n",
       "  <th>Method:</th>             <td>Least Squares</td>  <th>  F-statistic:       </th>          <td>   52.55</td>\n",
       "</tr>\n",
       "<tr>\n",
       "  <th>Date:</th>             <td>Sun, 27 Oct 2019</td> <th>  Prob (F-statistic):</th>          <td>6.41e-16</td>\n",
       "</tr>\n",
       "<tr>\n",
       "  <th>Time:</th>                 <td>17:01:59</td>     <th>  Log-Likelihood:    </th>          <td> -58.098</td>\n",
       "</tr>\n",
       "<tr>\n",
       "  <th>No. Observations:</th>      <td>    39</td>      <th>  AIC:               </th>          <td>   134.2</td>\n",
       "</tr>\n",
       "<tr>\n",
       "  <th>Df Residuals:</th>          <td>    30</td>      <th>  BIC:               </th>          <td>   149.2</td>\n",
       "</tr>\n",
       "<tr>\n",
       "  <th>Df Model:</th>              <td>     9</td>      <th>                     </th>              <td> </td>   \n",
       "</tr>\n",
       "<tr>\n",
       "  <th>Covariance Type:</th>      <td>nonrobust</td>    <th>                     </th>              <td> </td>   \n",
       "</tr>\n",
       "</table>\n",
       "<table class=\"simpletable\">\n",
       "<tr>\n",
       "    <td></td>       <th>coef</th>     <th>std err</th>      <th>t</th>      <th>P>|t|</th>  <th>[0.025</th>    <th>0.975]</th>  \n",
       "</tr>\n",
       "<tr>\n",
       "  <th>len</th>   <td>   -0.0429</td> <td>    0.033</td> <td>   -1.293</td> <td> 0.206</td> <td>   -0.111</td> <td>    0.025</td>\n",
       "</tr>\n",
       "<tr>\n",
       "  <th>trks</th>  <td>   -0.0738</td> <td>    0.105</td> <td>   -0.705</td> <td> 0.486</td> <td>   -0.288</td> <td>    0.140</td>\n",
       "</tr>\n",
       "<tr>\n",
       "  <th>sigs1</th> <td>    0.4885</td> <td>    0.420</td> <td>    1.164</td> <td> 0.253</td> <td>   -0.368</td> <td>    1.345</td>\n",
       "</tr>\n",
       "<tr>\n",
       "  <th>slim</th>  <td>   -0.0329</td> <td>    0.062</td> <td>   -0.527</td> <td> 0.602</td> <td>   -0.160</td> <td>    0.095</td>\n",
       "</tr>\n",
       "<tr>\n",
       "  <th>shld</th>  <td>   -0.0750</td> <td>    0.109</td> <td>   -0.686</td> <td> 0.498</td> <td>   -0.298</td> <td>    0.148</td>\n",
       "</tr>\n",
       "<tr>\n",
       "  <th>lane</th>  <td>    0.0459</td> <td>    0.240</td> <td>    0.192</td> <td> 0.849</td> <td>   -0.443</td> <td>    0.535</td>\n",
       "</tr>\n",
       "<tr>\n",
       "  <th>acpt</th>  <td>    0.1094</td> <td>    0.030</td> <td>    3.609</td> <td> 0.001</td> <td>    0.047</td> <td>    0.171</td>\n",
       "</tr>\n",
       "<tr>\n",
       "  <th>itg</th>   <td>    0.2660</td> <td>    0.700</td> <td>    0.380</td> <td> 0.707</td> <td>   -1.164</td> <td>    1.696</td>\n",
       "</tr>\n",
       "<tr>\n",
       "  <th>lwid</th>  <td>    0.4758</td> <td>    0.261</td> <td>    1.823</td> <td> 0.078</td> <td>   -0.057</td> <td>    1.009</td>\n",
       "</tr>\n",
       "</table>\n",
       "<table class=\"simpletable\">\n",
       "<tr>\n",
       "  <th>Omnibus:</th>       <td> 0.426</td> <th>  Durbin-Watson:     </th> <td>   2.538</td>\n",
       "</tr>\n",
       "<tr>\n",
       "  <th>Prob(Omnibus):</th> <td> 0.808</td> <th>  Jarque-Bera (JB):  </th> <td>   0.461</td>\n",
       "</tr>\n",
       "<tr>\n",
       "  <th>Skew:</th>          <td> 0.226</td> <th>  Prob(JB):          </th> <td>   0.794</td>\n",
       "</tr>\n",
       "<tr>\n",
       "  <th>Kurtosis:</th>      <td> 2.720</td> <th>  Cond. No.          </th> <td>    223.</td>\n",
       "</tr>\n",
       "</table><br/><br/>Warnings:<br/>[1] Standard Errors assume that the covariance matrix of the errors is correctly specified."
      ],
      "text/plain": [
       "<class 'statsmodels.iolib.summary.Summary'>\n",
       "\"\"\"\n",
       "                                 OLS Regression Results                                \n",
       "=======================================================================================\n",
       "Dep. Variable:                   rate   R-squared (uncentered):                   0.940\n",
       "Model:                            OLS   Adj. R-squared (uncentered):              0.922\n",
       "Method:                 Least Squares   F-statistic:                              52.55\n",
       "Date:                Sun, 27 Oct 2019   Prob (F-statistic):                    6.41e-16\n",
       "Time:                        17:01:59   Log-Likelihood:                         -58.098\n",
       "No. Observations:                  39   AIC:                                      134.2\n",
       "Df Residuals:                      30   BIC:                                      149.2\n",
       "Df Model:                           9                                                  \n",
       "Covariance Type:            nonrobust                                                  \n",
       "==============================================================================\n",
       "                 coef    std err          t      P>|t|      [0.025      0.975]\n",
       "------------------------------------------------------------------------------\n",
       "len           -0.0429      0.033     -1.293      0.206      -0.111       0.025\n",
       "trks          -0.0738      0.105     -0.705      0.486      -0.288       0.140\n",
       "sigs1          0.4885      0.420      1.164      0.253      -0.368       1.345\n",
       "slim          -0.0329      0.062     -0.527      0.602      -0.160       0.095\n",
       "shld          -0.0750      0.109     -0.686      0.498      -0.298       0.148\n",
       "lane           0.0459      0.240      0.192      0.849      -0.443       0.535\n",
       "acpt           0.1094      0.030      3.609      0.001       0.047       0.171\n",
       "itg            0.2660      0.700      0.380      0.707      -1.164       1.696\n",
       "lwid           0.4758      0.261      1.823      0.078      -0.057       1.009\n",
       "==============================================================================\n",
       "Omnibus:                        0.426   Durbin-Watson:                   2.538\n",
       "Prob(Omnibus):                  0.808   Jarque-Bera (JB):                0.461\n",
       "Skew:                           0.226   Prob(JB):                        0.794\n",
       "Kurtosis:                       2.720   Cond. No.                         223.\n",
       "==============================================================================\n",
       "\n",
       "Warnings:\n",
       "[1] Standard Errors assume that the covariance matrix of the errors is correctly specified.\n",
       "\"\"\""
      ]
     },
     "execution_count": 26,
     "metadata": {},
     "output_type": "execute_result"
    }
   ],
   "source": [
    "X=hwy1[['len','trks','sigs1','slim','shld','lane','acpt','itg','lwid']]\n",
    "y=hwy1[['rate']]\n",
    "df1=sm.OLS(y, X).fit()\n",
    "df1.summary()"
   ]
  },
  {
   "cell_type": "markdown",
   "metadata": {},
   "source": [
    "Formula= Rate~len + trks + sigs1 + slim + shld + lane + acpt + itg + lwid\n",
    "\n",
    "R^2= 92.2%"
   ]
  },
  {
   "cell_type": "markdown",
   "metadata": {},
   "source": [
    "### Problem 3\n",
    "Your $R^2$ values from problem 1 and 2 are pretty close. You were able to remove some features without loosing much in $R^2$. Explain the details of the significance of this process. Why did we remove some variables and what impact this may have in our model? (20 points)"
   ]
  },
  {
   "cell_type": "markdown",
   "metadata": {},
   "source": [
    "We were trying to reduce the amount of variables by removing varialbles that were relatively insignificant. This may have made the model slightly less accurate."
   ]
  },
  {
   "cell_type": "markdown",
   "metadata": {},
   "source": [
    "### Problem 4\n",
    "Remove all the variables that have p-values greater than 80. Retrain the model and see how $R^2$ changes. Is it worth loosing the accuracy of $R^2$ in a plan to reduce number of variables in these problems? How you want to answer this is upto you. Looking at the correlation of the removed variables with the dependant variabe, plotting them together is one idea. Explain in details. (20 points)"
   ]
  },
  {
   "cell_type": "code",
   "execution_count": 27,
   "metadata": {},
   "outputs": [
    {
     "data": {
      "text/html": [
       "<table class=\"simpletable\">\n",
       "<caption>OLS Regression Results</caption>\n",
       "<tr>\n",
       "  <th>Dep. Variable:</th>          <td>rate</td>       <th>  R-squared (uncentered):</th>      <td>   0.940</td>\n",
       "</tr>\n",
       "<tr>\n",
       "  <th>Model:</th>                   <td>OLS</td>       <th>  Adj. R-squared (uncentered):</th> <td>   0.925</td>\n",
       "</tr>\n",
       "<tr>\n",
       "  <th>Method:</th>             <td>Least Squares</td>  <th>  F-statistic:       </th>          <td>   61.01</td>\n",
       "</tr>\n",
       "<tr>\n",
       "  <th>Date:</th>             <td>Sun, 27 Oct 2019</td> <th>  Prob (F-statistic):</th>          <td>8.02e-17</td>\n",
       "</tr>\n",
       "<tr>\n",
       "  <th>Time:</th>                 <td>17:06:53</td>     <th>  Log-Likelihood:    </th>          <td> -58.122</td>\n",
       "</tr>\n",
       "<tr>\n",
       "  <th>No. Observations:</th>      <td>    39</td>      <th>  AIC:               </th>          <td>   132.2</td>\n",
       "</tr>\n",
       "<tr>\n",
       "  <th>Df Residuals:</th>          <td>    31</td>      <th>  BIC:               </th>          <td>   145.6</td>\n",
       "</tr>\n",
       "<tr>\n",
       "  <th>Df Model:</th>              <td>     8</td>      <th>                     </th>              <td> </td>   \n",
       "</tr>\n",
       "<tr>\n",
       "  <th>Covariance Type:</th>      <td>nonrobust</td>    <th>                     </th>              <td> </td>   \n",
       "</tr>\n",
       "</table>\n",
       "<table class=\"simpletable\">\n",
       "<tr>\n",
       "    <td></td>       <th>coef</th>     <th>std err</th>      <th>t</th>      <th>P>|t|</th>  <th>[0.025</th>    <th>0.975]</th>  \n",
       "</tr>\n",
       "<tr>\n",
       "  <th>len</th>   <td>   -0.0419</td> <td>    0.032</td> <td>   -1.299</td> <td> 0.203</td> <td>   -0.108</td> <td>    0.024</td>\n",
       "</tr>\n",
       "<tr>\n",
       "  <th>trks</th>  <td>   -0.0751</td> <td>    0.103</td> <td>   -0.730</td> <td> 0.471</td> <td>   -0.285</td> <td>    0.135</td>\n",
       "</tr>\n",
       "<tr>\n",
       "  <th>sigs1</th> <td>    0.5196</td> <td>    0.381</td> <td>    1.365</td> <td> 0.182</td> <td>   -0.257</td> <td>    1.296</td>\n",
       "</tr>\n",
       "<tr>\n",
       "  <th>slim</th>  <td>   -0.0336</td> <td>    0.061</td> <td>   -0.547</td> <td> 0.589</td> <td>   -0.159</td> <td>    0.092</td>\n",
       "</tr>\n",
       "<tr>\n",
       "  <th>shld</th>  <td>   -0.0688</td> <td>    0.103</td> <td>   -0.669</td> <td> 0.509</td> <td>   -0.279</td> <td>    0.141</td>\n",
       "</tr>\n",
       "<tr>\n",
       "  <th>acpt</th>  <td>    0.1083</td> <td>    0.029</td> <td>    3.699</td> <td> 0.001</td> <td>    0.049</td> <td>    0.168</td>\n",
       "</tr>\n",
       "<tr>\n",
       "  <th>itg</th>   <td>    0.3504</td> <td>    0.536</td> <td>    0.653</td> <td> 0.518</td> <td>   -0.743</td> <td>    1.444</td>\n",
       "</tr>\n",
       "<tr>\n",
       "  <th>lwid</th>  <td>    0.4849</td> <td>    0.253</td> <td>    1.920</td> <td> 0.064</td> <td>   -0.030</td> <td>    1.000</td>\n",
       "</tr>\n",
       "</table>\n",
       "<table class=\"simpletable\">\n",
       "<tr>\n",
       "  <th>Omnibus:</th>       <td> 0.419</td> <th>  Durbin-Watson:     </th> <td>   2.540</td>\n",
       "</tr>\n",
       "<tr>\n",
       "  <th>Prob(Omnibus):</th> <td> 0.811</td> <th>  Jarque-Bera (JB):  </th> <td>   0.508</td>\n",
       "</tr>\n",
       "<tr>\n",
       "  <th>Skew:</th>          <td> 0.220</td> <th>  Prob(JB):          </th> <td>   0.776</td>\n",
       "</tr>\n",
       "<tr>\n",
       "  <th>Kurtosis:</th>      <td> 2.655</td> <th>  Cond. No.          </th> <td>    169.</td>\n",
       "</tr>\n",
       "</table><br/><br/>Warnings:<br/>[1] Standard Errors assume that the covariance matrix of the errors is correctly specified."
      ],
      "text/plain": [
       "<class 'statsmodels.iolib.summary.Summary'>\n",
       "\"\"\"\n",
       "                                 OLS Regression Results                                \n",
       "=======================================================================================\n",
       "Dep. Variable:                   rate   R-squared (uncentered):                   0.940\n",
       "Model:                            OLS   Adj. R-squared (uncentered):              0.925\n",
       "Method:                 Least Squares   F-statistic:                              61.01\n",
       "Date:                Sun, 27 Oct 2019   Prob (F-statistic):                    8.02e-17\n",
       "Time:                        17:06:53   Log-Likelihood:                         -58.122\n",
       "No. Observations:                  39   AIC:                                      132.2\n",
       "Df Residuals:                      31   BIC:                                      145.6\n",
       "Df Model:                           8                                                  \n",
       "Covariance Type:            nonrobust                                                  \n",
       "==============================================================================\n",
       "                 coef    std err          t      P>|t|      [0.025      0.975]\n",
       "------------------------------------------------------------------------------\n",
       "len           -0.0419      0.032     -1.299      0.203      -0.108       0.024\n",
       "trks          -0.0751      0.103     -0.730      0.471      -0.285       0.135\n",
       "sigs1          0.5196      0.381      1.365      0.182      -0.257       1.296\n",
       "slim          -0.0336      0.061     -0.547      0.589      -0.159       0.092\n",
       "shld          -0.0688      0.103     -0.669      0.509      -0.279       0.141\n",
       "acpt           0.1083      0.029      3.699      0.001       0.049       0.168\n",
       "itg            0.3504      0.536      0.653      0.518      -0.743       1.444\n",
       "lwid           0.4849      0.253      1.920      0.064      -0.030       1.000\n",
       "==============================================================================\n",
       "Omnibus:                        0.419   Durbin-Watson:                   2.540\n",
       "Prob(Omnibus):                  0.811   Jarque-Bera (JB):                0.508\n",
       "Skew:                           0.220   Prob(JB):                        0.776\n",
       "Kurtosis:                       2.655   Cond. No.                         169.\n",
       "==============================================================================\n",
       "\n",
       "Warnings:\n",
       "[1] Standard Errors assume that the covariance matrix of the errors is correctly specified.\n",
       "\"\"\""
      ]
     },
     "execution_count": 27,
     "metadata": {},
     "output_type": "execute_result"
    }
   ],
   "source": [
    "X=hwy1[['len','trks','sigs1','slim','shld','acpt','itg','lwid']]\n",
    "y=hwy1[['rate']]\n",
    "df1=sm.OLS(y, X).fit()\n",
    "df1.summary()"
   ]
  },
  {
   "cell_type": "markdown",
   "metadata": {},
   "source": [
    "Formula= Rate~len + ADT + trks + sigs1 + slim + shld + acpt + itg + lwid\n",
    "\n",
    "R^2= 92.5%"
   ]
  },
  {
   "cell_type": "code",
   "execution_count": 39,
   "metadata": {},
   "outputs": [
    {
     "data": {
      "image/png": "[encoded data removed]",
      "text/plain": [
       "<Figure size 432x288 with 1 Axes>"
      ]
     },
     "metadata": {
      "needs_background": "light"
     },
     "output_type": "display_data"
    }
   ],
   "source": [
    "plot1=hwy1.plot(['ADT'],'rate',kind='scatter')"
   ]
  },
  {
   "cell_type": "code",
   "execution_count": 44,
   "metadata": {},
   "outputs": [
    {
     "data": {
      "image/png": "[encoded data removed]",
      "text/plain": [
       "<Figure size 432x288 with 1 Axes>"
      ]
     },
     "metadata": {
      "needs_background": "light"
     },
     "output_type": "display_data"
    }
   ],
   "source": [
    "plot2=hwy1.plot(['lane'],'rate',kind='scatter')"
   ]
  },
  {
   "cell_type": "markdown",
   "metadata": {},
   "source": [
    "I think we should take out these variables. These variables have little to no correlation with the dependant variable so I think the difference in accuracy is small enough to be ignored."
   ]
  },
  {
   "cell_type": "markdown",
   "metadata": {},
   "source": [
    "### Problem 5\n",
    "Find out 3 variables which are correlated very highly (positive or negative) with rate variable. Create 3 comuns with the squared values from these columns. For example, if x is one of those 3 variables, then create a new column with $x^2$ values. Name the colum appropriately. For each variable, create a nonlinear model of the form\n",
    "$y= a + bx +cx^2$. Make  scatter plots together with these quadratic functions to see how this nonlinear model that we came up with using linear model fits the data.\n",
    "(20 points)"
   ]
  },
  {
   "cell_type": "markdown",
   "metadata": {},
   "source": [
    "acpt lwid sigs1"
   ]
  },
  {
   "cell_type": "code",
   "execution_count": 45,
   "metadata": {},
   "outputs": [],
   "source": [
    "hwy2=hwy1\n",
    "hwy2['acpt^2']=hwy2['acpt']*hwy2['acpt']"
   ]
  },
  {
   "cell_type": "code",
   "execution_count": 46,
   "metadata": {},
   "outputs": [],
   "source": [
    "hwy2['lwid^2']=hwy2['lwid']*hwy2['lwid']"
   ]
  },
  {
   "cell_type": "code",
   "execution_count": 47,
   "metadata": {},
   "outputs": [],
   "source": [
    "hwy2['sigs1^2']=hwy2['sigs1']*hwy2['sigs1']"
   ]
  },
  {
   "cell_type": "code",
   "execution_count": 53,
   "metadata": {},
   "outputs": [
    {
     "data": {
      "text/html": [
       "<table class=\"simpletable\">\n",
       "<caption>OLS Regression Results</caption>\n",
       "<tr>\n",
       "  <th>Dep. Variable:</th>          <td>rate</td>       <th>  R-squared (uncentered):</th>      <td>   0.889</td>\n",
       "</tr>\n",
       "<tr>\n",
       "  <th>Model:</th>                   <td>OLS</td>       <th>  Adj. R-squared (uncentered):</th> <td>   0.880</td>\n",
       "</tr>\n",
       "<tr>\n",
       "  <th>Method:</th>             <td>Least Squares</td>  <th>  F-statistic:       </th>          <td>   96.32</td>\n",
       "</tr>\n",
       "<tr>\n",
       "  <th>Date:</th>             <td>Sun, 27 Oct 2019</td> <th>  Prob (F-statistic):</th>          <td>2.92e-17</td>\n",
       "</tr>\n",
       "<tr>\n",
       "  <th>Time:</th>                 <td>17:36:23</td>     <th>  Log-Likelihood:    </th>          <td> -70.171</td>\n",
       "</tr>\n",
       "<tr>\n",
       "  <th>No. Observations:</th>      <td>    39</td>      <th>  AIC:               </th>          <td>   146.3</td>\n",
       "</tr>\n",
       "<tr>\n",
       "  <th>Df Residuals:</th>          <td>    36</td>      <th>  BIC:               </th>          <td>   151.3</td>\n",
       "</tr>\n",
       "<tr>\n",
       "  <th>Df Model:</th>              <td>     3</td>      <th>                     </th>              <td> </td>   \n",
       "</tr>\n",
       "<tr>\n",
       "  <th>Covariance Type:</th>      <td>nonrobust</td>    <th>                     </th>              <td> </td>   \n",
       "</tr>\n",
       "</table>\n",
       "<table class=\"simpletable\">\n",
       "<tr>\n",
       "     <td></td>        <th>coef</th>     <th>std err</th>      <th>t</th>      <th>P>|t|</th>  <th>[0.025</th>    <th>0.975]</th>  \n",
       "</tr>\n",
       "<tr>\n",
       "  <th>sigs1^2</th> <td>    0.1933</td> <td>    0.236</td> <td>    0.817</td> <td> 0.419</td> <td>   -0.286</td> <td>    0.673</td>\n",
       "</tr>\n",
       "<tr>\n",
       "  <th>acpt^2</th>  <td>    0.0024</td> <td>    0.001</td> <td>    3.123</td> <td> 0.004</td> <td>    0.001</td> <td>    0.004</td>\n",
       "</tr>\n",
       "<tr>\n",
       "  <th>lwid^2</th>  <td>    0.0225</td> <td>    0.002</td> <td>   11.753</td> <td> 0.000</td> <td>    0.019</td> <td>    0.026</td>\n",
       "</tr>\n",
       "</table>\n",
       "<table class=\"simpletable\">\n",
       "<tr>\n",
       "  <th>Omnibus:</th>       <td> 6.411</td> <th>  Durbin-Watson:     </th> <td>   2.006</td>\n",
       "</tr>\n",
       "<tr>\n",
       "  <th>Prob(Omnibus):</th> <td> 0.041</td> <th>  Jarque-Bera (JB):  </th> <td>   5.400</td>\n",
       "</tr>\n",
       "<tr>\n",
       "  <th>Skew:</th>          <td> 0.896</td> <th>  Prob(JB):          </th> <td>  0.0672</td>\n",
       "</tr>\n",
       "<tr>\n",
       "  <th>Kurtosis:</th>      <td> 3.337</td> <th>  Cond. No.          </th> <td>    506.</td>\n",
       "</tr>\n",
       "</table><br/><br/>Warnings:<br/>[1] Standard Errors assume that the covariance matrix of the errors is correctly specified."
      ],
      "text/plain": [
       "<class 'statsmodels.iolib.summary.Summary'>\n",
       "\"\"\"\n",
       "                                 OLS Regression Results                                \n",
       "=======================================================================================\n",
       "Dep. Variable:                   rate   R-squared (uncentered):                   0.889\n",
       "Model:                            OLS   Adj. R-squared (uncentered):              0.880\n",
       "Method:                 Least Squares   F-statistic:                              96.32\n",
       "Date:                Sun, 27 Oct 2019   Prob (F-statistic):                    2.92e-17\n",
       "Time:                        17:36:23   Log-Likelihood:                         -70.171\n",
       "No. Observations:                  39   AIC:                                      146.3\n",
       "Df Residuals:                      36   BIC:                                      151.3\n",
       "Df Model:                           3                                                  \n",
       "Covariance Type:            nonrobust                                                  \n",
       "==============================================================================\n",
       "                 coef    std err          t      P>|t|      [0.025      0.975]\n",
       "------------------------------------------------------------------------------\n",
       "sigs1^2        0.1933      0.236      0.817      0.419      -0.286       0.673\n",
       "acpt^2         0.0024      0.001      3.123      0.004       0.001       0.004\n",
       "lwid^2         0.0225      0.002     11.753      0.000       0.019       0.026\n",
       "==============================================================================\n",
       "Omnibus:                        6.411   Durbin-Watson:                   2.006\n",
       "Prob(Omnibus):                  0.041   Jarque-Bera (JB):                5.400\n",
       "Skew:                           0.896   Prob(JB):                       0.0672\n",
       "Kurtosis:                       3.337   Cond. No.                         506.\n",
       "==============================================================================\n",
       "\n",
       "Warnings:\n",
       "[1] Standard Errors assume that the covariance matrix of the errors is correctly specified.\n",
       "\"\"\""
      ]
     },
     "execution_count": 53,
     "metadata": {},
     "output_type": "execute_result"
    }
   ],
   "source": [
    "X=hwy1[['sigs1^2','acpt^2','lwid^2']]\n",
    "y=hwy1[['rate']]\n",
    "df2=sm.OLS(y, X).fit()\n",
    "df2.summary()"
   ]
  },
  {
   "cell_type": "code",
   "execution_count": 54,
   "metadata": {},
   "outputs": [
    {
     "data": {
      "image/png": "[encoded data removed]",
      "text/plain": [
       "<Figure size 432x288 with 1 Axes>"
      ]
     },
     "metadata": {
      "needs_background": "light"
     },
     "output_type": "display_data"
    }
   ],
   "source": [
    "plot3=hwy1.plot(['acpt^2'],'rate',kind='scatter')"
   ]
  },
  {
   "cell_type": "code",
   "execution_count": 55,
   "metadata": {},
   "outputs": [
    {
     "data": {
      "image/png": "[encoded data removed]",
      "text/plain": [
       "<Figure size 432x288 with 1 Axes>"
      ]
     },
     "metadata": {
      "needs_background": "light"
     },
     "output_type": "display_data"
    }
   ],
   "source": [
    "plot4=hwy1.plot(['lwid^2'],'rate',kind='scatter')"
   ]
  },
  {
   "cell_type": "code",
   "execution_count": 56,
   "metadata": {},
   "outputs": [
    {
     "data": {
      "image/png": "[encoded data removed]",
      "text/plain": [
       "<Figure size 432x288 with 1 Axes>"
      ]
     },
     "metadata": {
      "needs_background": "light"
     },
     "output_type": "display_data"
    }
   ],
   "source": [
    "plot5=hwy1.plot(['sigs1^2'],'rate',kind='scatter')"
   ]
  }
 ],
 "metadata": {
  "kernelspec": {
   "display_name": "Python 3",
   "language": "python",
   "name": "python3"
  },
  "language_info": {
   "codemirror_mode": {
    "name": "ipython",
    "version": 3
   },
   "file_extension": ".py",
   "mimetype": "text/x-python",
   "name": "python",
   "nbconvert_exporter": "python",
   "pygments_lexer": "ipython3",
   "version": "3.7.3"
  }
 },
 "nbformat": 4,
 "nbformat_minor": 2
}
