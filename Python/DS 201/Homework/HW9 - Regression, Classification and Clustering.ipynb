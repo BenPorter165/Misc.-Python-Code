{
 "cells": [
  {
   "cell_type": "markdown",
   "metadata": {},
   "source": [
    "### Ben Porter\n",
    "### This HW is due on  11/17 at 11:59 pm\n"
   ]
  },
  {
   "cell_type": "markdown",
   "metadata": {},
   "source": [
    "You will be working with the movie data downloaded from here https://www.kaggle.com/karrrimba/movie-metadatacsv. Please follow the link and read more about it. This HW is little more invloved than the others. I will only tell you the main idea and what you need to do. You will have to take several baby steps doing data analysis yourself. We will grade it based on the effort, details of your work, summary, comments and finally the accuracy score of your model on the test data."
   ]
  },
  {
   "cell_type": "code",
   "execution_count": 2,
   "metadata": {},
   "outputs": [],
   "source": [
    "import numpy as np\n",
    "import numpy.matlib\n",
    "import pandas as pd\n",
    "import matplotlib.pyplot as plt\n",
    "from mpl_toolkits.mplot3d import Axes3D\n",
    "from sklearn import preprocessing\n",
    "import scipy.stats as st\n",
    "import matplotlib.colors as colors\n",
    "from sklearn import metrics\n",
    "from sklearn.metrics import confusion_matrix\n",
    "from sklearn.model_selection import train_test_split\n",
    "from sklearn.neighbors import KNeighborsClassifier\n",
    "from sklearn.linear_model import LogisticRegression\n",
    "%matplotlib inline\n",
    "from sklearn.cluster import KMeans\n",
    "import seaborn as sns\n",
    "import scipy.stats as st\n",
    "import statsmodels.formula.api as sm\n",
    "moviedata = pd.read_csv('moviedata.csv')"
   ]
  },
  {
   "cell_type": "markdown",
   "metadata": {},
   "source": [
    "### Problem 1.  \n",
    "Upload the movie data and do all the basic analysis such as finding and dealing with missing values, separating numerical and categorical variables etc.  Our goal here is to train a linear regression model. So, we are mainly interested in numerical features. Sometimes, we can turn categorical variables to different numerical levels  and actually use those categorical variables also as  features in our regression model. Please note that one of the major  factor in grading this problem is your accuracy score on a test data set so do what you can to raise it as high as you can. Find the features you want to use, treat imdb_score as a dependent variable, split the data in test and train set with appropriate rule and train a linear model.\n",
    "Report the accuracy of your testing and training set. (40 points)"
   ]
  },
  {
   "cell_type": "code",
   "execution_count": 383,
   "metadata": {},
   "outputs": [],
   "source": [
    "md =moviedata.dropna(how = 'any')"
   ]
  },
  {
   "cell_type": "code",
   "execution_count": 384,
   "metadata": {},
   "outputs": [
    {
     "data": {
      "text/html": [
       "<div>\n",
       "<style scoped>\n",
       "    .dataframe tbody tr th:only-of-type {\n",
       "        vertical-align: middle;\n",
       "    }\n",
       "\n",
       "    .dataframe tbody tr th {\n",
       "        vertical-align: top;\n",
       "    }\n",
       "\n",
       "    .dataframe thead th {\n",
       "        text-align: right;\n",
       "    }\n",
       "</style>\n",
       "<table border=\"1\" class=\"dataframe\">\n",
       "  <thead>\n",
       "    <tr style=\"text-align: right;\">\n",
       "      <th></th>\n",
       "      <th>color</th>\n",
       "      <th>director_name</th>\n",
       "      <th>num_critic_for_reviews</th>\n",
       "      <th>duration</th>\n",
       "      <th>director_facebook_likes</th>\n",
       "      <th>actor_3_facebook_likes</th>\n",
       "      <th>actor_2_name</th>\n",
       "      <th>actor_1_facebook_likes</th>\n",
       "      <th>gross</th>\n",
       "      <th>genres</th>\n",
       "      <th>...</th>\n",
       "      <th>num_user_for_reviews</th>\n",
       "      <th>language</th>\n",
       "      <th>country</th>\n",
       "      <th>content_rating</th>\n",
       "      <th>budget</th>\n",
       "      <th>title_year</th>\n",
       "      <th>actor_2_facebook_likes</th>\n",
       "      <th>imdb_score</th>\n",
       "      <th>aspect_ratio</th>\n",
       "      <th>movie_facebook_likes</th>\n",
       "    </tr>\n",
       "  </thead>\n",
       "  <tbody>\n",
       "    <tr>\n",
       "      <th>0</th>\n",
       "      <td>Color</td>\n",
       "      <td>James Cameron</td>\n",
       "      <td>723.0</td>\n",
       "      <td>178.0</td>\n",
       "      <td>0.0</td>\n",
       "      <td>855.0</td>\n",
       "      <td>Joel David Moore</td>\n",
       "      <td>1000.0</td>\n",
       "      <td>760505847.0</td>\n",
       "      <td>Action|Adventure|Fantasy|Sci-Fi</td>\n",
       "      <td>...</td>\n",
       "      <td>3054.0</td>\n",
       "      <td>English</td>\n",
       "      <td>USA</td>\n",
       "      <td>PG-13</td>\n",
       "      <td>237000000.0</td>\n",
       "      <td>2009.0</td>\n",
       "      <td>936.0</td>\n",
       "      <td>7.9</td>\n",
       "      <td>1.78</td>\n",
       "      <td>33000</td>\n",
       "    </tr>\n",
       "    <tr>\n",
       "      <th>1</th>\n",
       "      <td>Color</td>\n",
       "      <td>Gore Verbinski</td>\n",
       "      <td>302.0</td>\n",
       "      <td>169.0</td>\n",
       "      <td>563.0</td>\n",
       "      <td>1000.0</td>\n",
       "      <td>Orlando Bloom</td>\n",
       "      <td>40000.0</td>\n",
       "      <td>309404152.0</td>\n",
       "      <td>Action|Adventure|Fantasy</td>\n",
       "      <td>...</td>\n",
       "      <td>1238.0</td>\n",
       "      <td>English</td>\n",
       "      <td>USA</td>\n",
       "      <td>PG-13</td>\n",
       "      <td>300000000.0</td>\n",
       "      <td>2007.0</td>\n",
       "      <td>5000.0</td>\n",
       "      <td>7.1</td>\n",
       "      <td>2.35</td>\n",
       "      <td>0</td>\n",
       "    </tr>\n",
       "    <tr>\n",
       "      <th>2</th>\n",
       "      <td>Color</td>\n",
       "      <td>Sam Mendes</td>\n",
       "      <td>602.0</td>\n",
       "      <td>148.0</td>\n",
       "      <td>0.0</td>\n",
       "      <td>161.0</td>\n",
       "      <td>Rory Kinnear</td>\n",
       "      <td>11000.0</td>\n",
       "      <td>200074175.0</td>\n",
       "      <td>Action|Adventure|Thriller</td>\n",
       "      <td>...</td>\n",
       "      <td>994.0</td>\n",
       "      <td>English</td>\n",
       "      <td>UK</td>\n",
       "      <td>PG-13</td>\n",
       "      <td>245000000.0</td>\n",
       "      <td>2015.0</td>\n",
       "      <td>393.0</td>\n",
       "      <td>6.8</td>\n",
       "      <td>2.35</td>\n",
       "      <td>85000</td>\n",
       "    </tr>\n",
       "    <tr>\n",
       "      <th>3</th>\n",
       "      <td>Color</td>\n",
       "      <td>Christopher Nolan</td>\n",
       "      <td>813.0</td>\n",
       "      <td>164.0</td>\n",
       "      <td>22000.0</td>\n",
       "      <td>23000.0</td>\n",
       "      <td>Christian Bale</td>\n",
       "      <td>27000.0</td>\n",
       "      <td>448130642.0</td>\n",
       "      <td>Action|Thriller</td>\n",
       "      <td>...</td>\n",
       "      <td>2701.0</td>\n",
       "      <td>English</td>\n",
       "      <td>USA</td>\n",
       "      <td>PG-13</td>\n",
       "      <td>250000000.0</td>\n",
       "      <td>2012.0</td>\n",
       "      <td>23000.0</td>\n",
       "      <td>8.5</td>\n",
       "      <td>2.35</td>\n",
       "      <td>164000</td>\n",
       "    </tr>\n",
       "    <tr>\n",
       "      <th>5</th>\n",
       "      <td>Color</td>\n",
       "      <td>Andrew Stanton</td>\n",
       "      <td>462.0</td>\n",
       "      <td>132.0</td>\n",
       "      <td>475.0</td>\n",
       "      <td>530.0</td>\n",
       "      <td>Samantha Morton</td>\n",
       "      <td>640.0</td>\n",
       "      <td>73058679.0</td>\n",
       "      <td>Action|Adventure|Sci-Fi</td>\n",
       "      <td>...</td>\n",
       "      <td>738.0</td>\n",
       "      <td>English</td>\n",
       "      <td>USA</td>\n",
       "      <td>PG-13</td>\n",
       "      <td>263700000.0</td>\n",
       "      <td>2012.0</td>\n",
       "      <td>632.0</td>\n",
       "      <td>6.6</td>\n",
       "      <td>2.35</td>\n",
       "      <td>24000</td>\n",
       "    </tr>\n",
       "  </tbody>\n",
       "</table>\n",
       "<p>5 rows × 28 columns</p>\n",
       "</div>"
      ],
      "text/plain": [
       "   color      director_name  num_critic_for_reviews  duration  \\\n",
       "0  Color      James Cameron                   723.0     178.0   \n",
       "1  Color     Gore Verbinski                   302.0     169.0   \n",
       "2  Color         Sam Mendes                   602.0     148.0   \n",
       "3  Color  Christopher Nolan                   813.0     164.0   \n",
       "5  Color     Andrew Stanton                   462.0     132.0   \n",
       "\n",
       "   director_facebook_likes  actor_3_facebook_likes      actor_2_name  \\\n",
       "0                      0.0                   855.0  Joel David Moore   \n",
       "1                    563.0                  1000.0     Orlando Bloom   \n",
       "2                      0.0                   161.0      Rory Kinnear   \n",
       "3                  22000.0                 23000.0    Christian Bale   \n",
       "5                    475.0                   530.0   Samantha Morton   \n",
       "\n",
       "   actor_1_facebook_likes        gross                           genres  ...  \\\n",
       "0                  1000.0  760505847.0  Action|Adventure|Fantasy|Sci-Fi  ...   \n",
       "1                 40000.0  309404152.0         Action|Adventure|Fantasy  ...   \n",
       "2                 11000.0  200074175.0        Action|Adventure|Thriller  ...   \n",
       "3                 27000.0  448130642.0                  Action|Thriller  ...   \n",
       "5                   640.0   73058679.0          Action|Adventure|Sci-Fi  ...   \n",
       "\n",
       "  num_user_for_reviews language  country  content_rating       budget  \\\n",
       "0               3054.0  English      USA           PG-13  237000000.0   \n",
       "1               1238.0  English      USA           PG-13  300000000.0   \n",
       "2                994.0  English       UK           PG-13  245000000.0   \n",
       "3               2701.0  English      USA           PG-13  250000000.0   \n",
       "5                738.0  English      USA           PG-13  263700000.0   \n",
       "\n",
       "   title_year actor_2_facebook_likes imdb_score  aspect_ratio  \\\n",
       "0      2009.0                  936.0        7.9          1.78   \n",
       "1      2007.0                 5000.0        7.1          2.35   \n",
       "2      2015.0                  393.0        6.8          2.35   \n",
       "3      2012.0                23000.0        8.5          2.35   \n",
       "5      2012.0                  632.0        6.6          2.35   \n",
       "\n",
       "  movie_facebook_likes  \n",
       "0                33000  \n",
       "1                    0  \n",
       "2                85000  \n",
       "3               164000  \n",
       "5                24000  \n",
       "\n",
       "[5 rows x 28 columns]"
      ]
     },
     "execution_count": 384,
     "metadata": {},
     "output_type": "execute_result"
    }
   ],
   "source": [
    "md.head()"
   ]
  },
  {
   "cell_type": "code",
   "execution_count": 385,
   "metadata": {},
   "outputs": [
    {
     "data": {
      "text/plain": [
       "<matplotlib.axes._subplots.AxesSubplot at 0x2ce817c40f0>"
      ]
     },
     "execution_count": 385,
     "metadata": {},
     "output_type": "execute_result"
    },
    {
     "data": {
      "image/png": "[encoded data removed]",
      "text/plain": [
       "<Figure size 432x288 with 1 Axes>"
      ]
     },
     "metadata": {
      "needs_background": "light"
     },
     "output_type": "display_data"
    }
   ],
   "source": [
    "md.boxplot()"
   ]
  },
  {
   "cell_type": "code",
   "execution_count": 386,
   "metadata": {},
   "outputs": [
    {
     "name": "stdout",
     "output_type": "stream",
     "text": [
      "num_critic_for_reviews            147.00\n",
      "duration                           24.00\n",
      "director_facebook_likes           224.00\n",
      "actor_3_facebook_likes            497.00\n",
      "actor_1_facebook_likes          12255.00\n",
      "gross                        58611708.00\n",
      "num_voted_users                108935.00\n",
      "cast_total_facebook_likes       14320.25\n",
      "facenumber_in_poster                2.00\n",
      "num_user_for_reviews              288.25\n",
      "budget                       40000000.00\n",
      "title_year                         11.00\n",
      "actor_2_facebook_likes            591.25\n",
      "imdb_score                          1.30\n",
      "aspect_ratio                        0.50\n",
      "movie_facebook_likes            11000.00\n",
      "dtype: float64\n"
     ]
    },
    {
     "data": {
      "text/plain": [
       "(3756, 28)"
      ]
     },
     "execution_count": 386,
     "metadata": {},
     "output_type": "execute_result"
    }
   ],
   "source": [
    "Q1 = md.quantile(0.25)\n",
    "Q3 = md.quantile(0.75)\n",
    "IQR = Q3 - Q1\n",
    "print(IQR)\n",
    "md.shape"
   ]
  },
  {
   "cell_type": "code",
   "execution_count": 387,
   "metadata": {},
   "outputs": [
    {
     "data": {
      "text/plain": [
       "(2043, 28)"
      ]
     },
     "execution_count": 387,
     "metadata": {},
     "output_type": "execute_result"
    }
   ],
   "source": [
    "md1 = md[~((md < (Q1 - 1.5 * IQR)) |(md > (Q3 + 1.5 * IQR))).any(axis=1)]\n",
    "md1.shape"
   ]
  },
  {
   "cell_type": "code",
   "execution_count": 388,
   "metadata": {},
   "outputs": [
    {
     "data": {
      "text/plain": [
       "color                         object\n",
       "director_name                 object\n",
       "num_critic_for_reviews       float64\n",
       "duration                     float64\n",
       "director_facebook_likes      float64\n",
       "actor_3_facebook_likes       float64\n",
       "actor_2_name                  object\n",
       "actor_1_facebook_likes       float64\n",
       "gross                        float64\n",
       "genres                        object\n",
       "actor_1_name                  object\n",
       "movie_title                   object\n",
       "num_voted_users                int64\n",
       "cast_total_facebook_likes      int64\n",
       "actor_3_name                  object\n",
       "facenumber_in_poster         float64\n",
       "plot_keywords                 object\n",
       "movie_imdb_link               object\n",
       "num_user_for_reviews         float64\n",
       "language                      object\n",
       "country                       object\n",
       "content_rating                object\n",
       "budget                       float64\n",
       "title_year                   float64\n",
       "actor_2_facebook_likes       float64\n",
       "imdb_score                   float64\n",
       "aspect_ratio                 float64\n",
       "movie_facebook_likes           int64\n",
       "dtype: object"
      ]
     },
     "execution_count": 388,
     "metadata": {},
     "output_type": "execute_result"
    }
   ],
   "source": [
    "md1.dtypes"
   ]
  },
  {
   "cell_type": "code",
   "execution_count": 389,
   "metadata": {},
   "outputs": [
    {
     "data": {
      "text/plain": [
       "array(['Color', ' Black and White'], dtype=object)"
      ]
     },
     "execution_count": 389,
     "metadata": {},
     "output_type": "execute_result"
    }
   ],
   "source": [
    "md1.color.unique()"
   ]
  },
  {
   "cell_type": "code",
   "execution_count": 390,
   "metadata": {},
   "outputs": [
    {
     "data": {
      "text/plain": [
       "array(['PG-13', 'G', 'R', 'PG', 'Not Rated', 'Unrated', 'X', 'NC-17'],\n",
       "      dtype=object)"
      ]
     },
     "execution_count": 390,
     "metadata": {},
     "output_type": "execute_result"
    }
   ],
   "source": [
    "md1.content_rating.unique()"
   ]
  },
  {
   "cell_type": "code",
   "execution_count": 391,
   "metadata": {},
   "outputs": [],
   "source": [
    "md2=md1"
   ]
  },
  {
   "cell_type": "code",
   "execution_count": 392,
   "metadata": {},
   "outputs": [],
   "source": [
    "#md2['color'].replace('Color', 0,inplace=True)\n",
    "#md2['color'].replace('Black and White', 1,inplace=True)"
   ]
  },
  {
   "cell_type": "code",
   "execution_count": 393,
   "metadata": {},
   "outputs": [
    {
     "name": "stderr",
     "output_type": "stream",
     "text": [
      "C:\\Users\\bman1\\Anaconda3\\lib\\site-packages\\pandas\\core\\generic.py:6586: SettingWithCopyWarning: \n",
      "A value is trying to be set on a copy of a slice from a DataFrame\n",
      "\n",
      "See the caveats in the documentation: http://pandas.pydata.org/pandas-docs/stable/indexing.html#indexing-view-versus-copy\n",
      "  self._update_inplace(new_data)\n"
     ]
    }
   ],
   "source": [
    "md2['content_rating'].replace('PG-13', 0,inplace=True)\n",
    "md2['content_rating'].replace('G', 0,inplace=True)\n",
    "md2['content_rating'].replace('R', 0,inplace=True)\n",
    "md2['content_rating'].replace('PG', 0,inplace=True)\n",
    "md2['content_rating'].replace('Not Rated', 0,inplace=True)\n",
    "md2['content_rating'].replace('Unrated', 0,inplace=True)\n",
    "md2['content_rating'].replace('X', 0,inplace=True)\n",
    "md2['content_rating'].replace('NC-17', 0,inplace=True)"
   ]
  },
  {
   "cell_type": "code",
   "execution_count": 394,
   "metadata": {},
   "outputs": [],
   "source": [
    "md_numerical = md1.drop(['color', 'director_name', 'actor_2_name', 'genres', 'actor_1_name', 'movie_title', 'actor_3_name', 'plot_keywords', 'movie_imdb_link', 'language', 'country'], axis=1)"
   ]
  },
  {
   "cell_type": "code",
   "execution_count": 395,
   "metadata": {},
   "outputs": [
    {
     "data": {
      "text/plain": [
       "num_critic_for_reviews       float64\n",
       "duration                     float64\n",
       "director_facebook_likes      float64\n",
       "actor_3_facebook_likes       float64\n",
       "actor_1_facebook_likes       float64\n",
       "gross                        float64\n",
       "num_voted_users                int64\n",
       "cast_total_facebook_likes      int64\n",
       "facenumber_in_poster         float64\n",
       "num_user_for_reviews         float64\n",
       "content_rating                 int64\n",
       "budget                       float64\n",
       "title_year                   float64\n",
       "actor_2_facebook_likes       float64\n",
       "imdb_score                   float64\n",
       "aspect_ratio                 float64\n",
       "movie_facebook_likes           int64\n",
       "dtype: object"
      ]
     },
     "execution_count": 395,
     "metadata": {},
     "output_type": "execute_result"
    }
   ],
   "source": [
    "md_numerical.dtypes"
   ]
  },
  {
   "cell_type": "code",
   "execution_count": 396,
   "metadata": {},
   "outputs": [
    {
     "name": "stdout",
     "output_type": "stream",
     "text": [
      "(2043, 17)\n"
     ]
    },
    {
     "data": {
      "text/plain": [
       "['num_critic_for_reviews',\n",
       " 'duration',\n",
       " 'director_facebook_likes',\n",
       " 'actor_3_facebook_likes',\n",
       " 'actor_1_facebook_likes',\n",
       " 'gross',\n",
       " 'num_voted_users',\n",
       " 'cast_total_facebook_likes',\n",
       " 'facenumber_in_poster',\n",
       " 'num_user_for_reviews',\n",
       " 'content_rating',\n",
       " 'budget',\n",
       " 'title_year',\n",
       " 'actor_2_facebook_likes',\n",
       " 'imdb_score',\n",
       " 'aspect_ratio',\n",
       " 'movie_facebook_likes']"
      ]
     },
     "execution_count": 396,
     "metadata": {},
     "output_type": "execute_result"
    }
   ],
   "source": [
    "print(md_numerical.shape)\n",
    "list(md_numerical.columns)"
   ]
  },
  {
   "cell_type": "code",
   "execution_count": 397,
   "metadata": {},
   "outputs": [],
   "source": [
    "x = md_numerical.loc[: , ['num_critic_for_reviews', 'duration', 'director_facebook_likes', 'actor_3_facebook_likes', 'actor_1_facebook_likes', 'gross', 'num_voted_users', 'cast_total_facebook_likes', 'facenumber_in_poster', 'num_user_for_reviews', 'content_rating', 'budget', 'title_year', 'actor_2_facebook_likes', 'aspect_ratio', 'movie_facebook_likes']]\n",
    "y = md_numerical.loc[:, 'imdb_score']"
   ]
  },
  {
   "cell_type": "code",
   "execution_count": 398,
   "metadata": {},
   "outputs": [
    {
     "name": "stderr",
     "output_type": "stream",
     "text": [
      "C:\\Users\\bman1\\Anaconda3\\lib\\site-packages\\numpy\\core\\fromnumeric.py:2389: FutureWarning: Method .ptp is deprecated and will be removed in a future version. Use numpy.ptp instead.\n",
      "  return ptp(axis=axis, out=out, **kwargs)\n"
     ]
    }
   ],
   "source": [
    "import statsmodels.api as sm1\n",
    "x = sm1.add_constant(x)"
   ]
  },
  {
   "cell_type": "code",
   "execution_count": 399,
   "metadata": {},
   "outputs": [
    {
     "data": {
      "image/png": "[encoded data removed]",
      "text/plain": [
       "<Figure size 432x288 with 2 Axes>"
      ]
     },
     "metadata": {
      "needs_background": "light"
     },
     "output_type": "display_data"
    }
   ],
   "source": [
    "corr = md_numerical.corr()\n",
    "fig = plt.figure()\n",
    "ax = fig.add_subplot(111)\n",
    "cax = ax.matshow(corr,cmap='binary', vmin=0, vmax=1)\n",
    "fig.colorbar(cax)\n",
    "ticks = np.arange(0,len(md_numerical.columns),1)\n",
    "ax.set_xticks(ticks)\n",
    "plt.xticks(rotation=90)\n",
    "ax.set_yticks(ticks)\n",
    "ax.set_xticklabels(md_numerical.columns)\n",
    "ax.set_yticklabels(md_numerical.columns)\n",
    "plt.show()"
   ]
  },
  {
   "cell_type": "code",
   "execution_count": 400,
   "metadata": {},
   "outputs": [],
   "source": [
    "train, test = train_test_split(md_numerical, test_size=0.39,\n",
    "random_state=1)\n",
    "x1 = train.loc[: , ['num_critic_for_reviews', 'duration', 'director_facebook_likes', 'actor_3_facebook_likes', 'actor_1_facebook_likes', 'gross', 'num_voted_users', 'cast_total_facebook_likes', 'facenumber_in_poster', 'num_user_for_reviews', 'content_rating', 'budget', 'title_year', 'actor_2_facebook_likes', 'aspect_ratio', 'movie_facebook_likes']]\n",
    "y1 = train.loc[:, 'imdb_score']"
   ]
  },
  {
   "cell_type": "code",
   "execution_count": 401,
   "metadata": {},
   "outputs": [],
   "source": [
    "x1=sm1.add_constant(x1)"
   ]
  },
  {
   "cell_type": "code",
   "execution_count": 402,
   "metadata": {},
   "outputs": [
    {
     "data": {
      "text/html": [
       "<table class=\"simpletable\">\n",
       "<caption>OLS Regression Results</caption>\n",
       "<tr>\n",
       "  <th>Dep. Variable:</th>           <td>y1</td>        <th>  R-squared:         </th> <td>   0.371</td> \n",
       "</tr>\n",
       "<tr>\n",
       "  <th>Model:</th>                   <td>OLS</td>       <th>  Adj. R-squared:    </th> <td>   0.363</td> \n",
       "</tr>\n",
       "<tr>\n",
       "  <th>Method:</th>             <td>Least Squares</td>  <th>  F-statistic:       </th> <td>   48.32</td> \n",
       "</tr>\n",
       "<tr>\n",
       "  <th>Date:</th>             <td>Sun, 17 Nov 2019</td> <th>  Prob (F-statistic):</th> <td>2.16e-112</td>\n",
       "</tr>\n",
       "<tr>\n",
       "  <th>Time:</th>                 <td>23:07:05</td>     <th>  Log-Likelihood:    </th> <td> -1330.0</td> \n",
       "</tr>\n",
       "<tr>\n",
       "  <th>No. Observations:</th>      <td>  1246</td>      <th>  AIC:               </th> <td>   2692.</td> \n",
       "</tr>\n",
       "<tr>\n",
       "  <th>Df Residuals:</th>          <td>  1230</td>      <th>  BIC:               </th> <td>   2774.</td> \n",
       "</tr>\n",
       "<tr>\n",
       "  <th>Df Model:</th>              <td>    15</td>      <th>                     </th>     <td> </td>    \n",
       "</tr>\n",
       "<tr>\n",
       "  <th>Covariance Type:</th>      <td>nonrobust</td>    <th>                     </th>     <td> </td>    \n",
       "</tr>\n",
       "</table>\n",
       "<table class=\"simpletable\">\n",
       "<tr>\n",
       "      <td></td>         <th>coef</th>     <th>std err</th>      <th>t</th>      <th>P>|t|</th>  <th>[0.025</th>    <th>0.975]</th>  \n",
       "</tr>\n",
       "<tr>\n",
       "  <th>Intercept</th> <td>   15.1494</td> <td>    3.817</td> <td>    3.969</td> <td> 0.000</td> <td>    7.662</td> <td>   22.637</td>\n",
       "</tr>\n",
       "<tr>\n",
       "  <th>x1[0]</th>     <td>   15.1494</td> <td>    3.817</td> <td>    3.969</td> <td> 0.000</td> <td>    7.662</td> <td>   22.637</td>\n",
       "</tr>\n",
       "<tr>\n",
       "  <th>x1[1]</th>     <td>    0.0013</td> <td>    0.000</td> <td>    3.009</td> <td> 0.003</td> <td>    0.000</td> <td>    0.002</td>\n",
       "</tr>\n",
       "<tr>\n",
       "  <th>x1[2]</th>     <td>    0.0198</td> <td>    0.002</td> <td>   12.911</td> <td> 0.000</td> <td>    0.017</td> <td>    0.023</td>\n",
       "</tr>\n",
       "<tr>\n",
       "  <th>x1[3]</th>     <td>    0.0005</td> <td>    0.000</td> <td>    3.279</td> <td> 0.001</td> <td>    0.000</td> <td>    0.001</td>\n",
       "</tr>\n",
       "<tr>\n",
       "  <th>x1[4]</th>     <td>    0.0004</td> <td>    0.000</td> <td>    2.122</td> <td> 0.034</td> <td> 3.05e-05</td> <td>    0.001</td>\n",
       "</tr>\n",
       "<tr>\n",
       "  <th>x1[5]</th>     <td>    0.0002</td> <td> 4.38e-05</td> <td>    3.600</td> <td> 0.000</td> <td> 7.17e-05</td> <td>    0.000</td>\n",
       "</tr>\n",
       "<tr>\n",
       "  <th>x1[6]</th>     <td> -4.05e-09</td> <td> 8.76e-10</td> <td>   -4.622</td> <td> 0.000</td> <td>-5.77e-09</td> <td>-2.33e-09</td>\n",
       "</tr>\n",
       "<tr>\n",
       "  <th>x1[7]</th>     <td> 9.189e-06</td> <td> 6.78e-07</td> <td>   13.547</td> <td> 0.000</td> <td> 7.86e-06</td> <td> 1.05e-05</td>\n",
       "</tr>\n",
       "<tr>\n",
       "  <th>x1[8]</th>     <td>   -0.0002</td> <td> 4.35e-05</td> <td>   -3.522</td> <td> 0.000</td> <td>   -0.000</td> <td>-6.78e-05</td>\n",
       "</tr>\n",
       "<tr>\n",
       "  <th>x1[9]</th>     <td>   -0.0434</td> <td>    0.016</td> <td>   -2.727</td> <td> 0.006</td> <td>   -0.075</td> <td>   -0.012</td>\n",
       "</tr>\n",
       "<tr>\n",
       "  <th>x1[10]</th>    <td>   -0.0014</td> <td>    0.000</td> <td>   -6.730</td> <td> 0.000</td> <td>   -0.002</td> <td>   -0.001</td>\n",
       "</tr>\n",
       "<tr>\n",
       "  <th>x1[11]</th>    <td> 4.292e-12</td> <td> 1.08e-12</td> <td>    3.969</td> <td> 0.000</td> <td> 2.17e-12</td> <td> 6.41e-12</td>\n",
       "</tr>\n",
       "<tr>\n",
       "  <th>x1[12]</th>    <td>-8.843e-09</td> <td> 1.09e-09</td> <td>   -8.102</td> <td> 0.000</td> <td> -1.1e-08</td> <td> -6.7e-09</td>\n",
       "</tr>\n",
       "<tr>\n",
       "  <th>x1[13]</th>    <td>   -0.0128</td> <td>    0.004</td> <td>   -3.339</td> <td> 0.001</td> <td>   -0.020</td> <td>   -0.005</td>\n",
       "</tr>\n",
       "<tr>\n",
       "  <th>x1[14]</th>    <td>   -0.0003</td> <td>    0.000</td> <td>   -2.393</td> <td> 0.017</td> <td>   -0.001</td> <td>-5.32e-05</td>\n",
       "</tr>\n",
       "<tr>\n",
       "  <th>x1[15]</th>    <td>   -0.1294</td> <td>    0.086</td> <td>   -1.510</td> <td> 0.131</td> <td>   -0.297</td> <td>    0.039</td>\n",
       "</tr>\n",
       "<tr>\n",
       "  <th>x1[16]</th>    <td> 9.748e-07</td> <td> 4.08e-06</td> <td>    0.239</td> <td> 0.811</td> <td>-7.03e-06</td> <td> 8.98e-06</td>\n",
       "</tr>\n",
       "</table>\n",
       "<table class=\"simpletable\">\n",
       "<tr>\n",
       "  <th>Omnibus:</th>       <td> 6.063</td> <th>  Durbin-Watson:     </th> <td>   1.977</td>\n",
       "</tr>\n",
       "<tr>\n",
       "  <th>Prob(Omnibus):</th> <td> 0.048</td> <th>  Jarque-Bera (JB):  </th> <td>   6.097</td>\n",
       "</tr>\n",
       "<tr>\n",
       "  <th>Skew:</th>          <td>-0.156</td> <th>  Prob(JB):          </th> <td>  0.0474</td>\n",
       "</tr>\n",
       "<tr>\n",
       "  <th>Kurtosis:</th>      <td> 2.859</td> <th>  Cond. No.          </th> <td>1.08e+23</td>\n",
       "</tr>\n",
       "</table><br/><br/>Warnings:<br/>[1] Standard Errors assume that the covariance matrix of the errors is correctly specified.<br/>[2] The smallest eigenvalue is 2.94e-28. This might indicate that there are<br/>strong multicollinearity problems or that the design matrix is singular."
      ],
      "text/plain": [
       "<class 'statsmodels.iolib.summary.Summary'>\n",
       "\"\"\"\n",
       "                            OLS Regression Results                            \n",
       "==============================================================================\n",
       "Dep. Variable:                     y1   R-squared:                       0.371\n",
       "Model:                            OLS   Adj. R-squared:                  0.363\n",
       "Method:                 Least Squares   F-statistic:                     48.32\n",
       "Date:                Sun, 17 Nov 2019   Prob (F-statistic):          2.16e-112\n",
       "Time:                        23:07:05   Log-Likelihood:                -1330.0\n",
       "No. Observations:                1246   AIC:                             2692.\n",
       "Df Residuals:                    1230   BIC:                             2774.\n",
       "Df Model:                          15                                         \n",
       "Covariance Type:            nonrobust                                         \n",
       "==============================================================================\n",
       "                 coef    std err          t      P>|t|      [0.025      0.975]\n",
       "------------------------------------------------------------------------------\n",
       "Intercept     15.1494      3.817      3.969      0.000       7.662      22.637\n",
       "x1[0]         15.1494      3.817      3.969      0.000       7.662      22.637\n",
       "x1[1]          0.0013      0.000      3.009      0.003       0.000       0.002\n",
       "x1[2]          0.0198      0.002     12.911      0.000       0.017       0.023\n",
       "x1[3]          0.0005      0.000      3.279      0.001       0.000       0.001\n",
       "x1[4]          0.0004      0.000      2.122      0.034    3.05e-05       0.001\n",
       "x1[5]          0.0002   4.38e-05      3.600      0.000    7.17e-05       0.000\n",
       "x1[6]       -4.05e-09   8.76e-10     -4.622      0.000   -5.77e-09   -2.33e-09\n",
       "x1[7]       9.189e-06   6.78e-07     13.547      0.000    7.86e-06    1.05e-05\n",
       "x1[8]         -0.0002   4.35e-05     -3.522      0.000      -0.000   -6.78e-05\n",
       "x1[9]         -0.0434      0.016     -2.727      0.006      -0.075      -0.012\n",
       "x1[10]        -0.0014      0.000     -6.730      0.000      -0.002      -0.001\n",
       "x1[11]      4.292e-12   1.08e-12      3.969      0.000    2.17e-12    6.41e-12\n",
       "x1[12]     -8.843e-09   1.09e-09     -8.102      0.000    -1.1e-08    -6.7e-09\n",
       "x1[13]        -0.0128      0.004     -3.339      0.001      -0.020      -0.005\n",
       "x1[14]        -0.0003      0.000     -2.393      0.017      -0.001   -5.32e-05\n",
       "x1[15]        -0.1294      0.086     -1.510      0.131      -0.297       0.039\n",
       "x1[16]      9.748e-07   4.08e-06      0.239      0.811   -7.03e-06    8.98e-06\n",
       "==============================================================================\n",
       "Omnibus:                        6.063   Durbin-Watson:                   1.977\n",
       "Prob(Omnibus):                  0.048   Jarque-Bera (JB):                6.097\n",
       "Skew:                          -0.156   Prob(JB):                       0.0474\n",
       "Kurtosis:                       2.859   Cond. No.                     1.08e+23\n",
       "==============================================================================\n",
       "\n",
       "Warnings:\n",
       "[1] Standard Errors assume that the covariance matrix of the errors is correctly specified.\n",
       "[2] The smallest eigenvalue is 2.94e-28. This might indicate that there are\n",
       "strong multicollinearity problems or that the design matrix is singular.\n",
       "\"\"\""
      ]
     },
     "execution_count": 402,
     "metadata": {},
     "output_type": "execute_result"
    }
   ],
   "source": [
    "mod1 = sm.ols('y1 ~ x1',train).fit()\n",
    "mod1.summary()"
   ]
  },
  {
   "cell_type": "code",
   "execution_count": 403,
   "metadata": {},
   "outputs": [],
   "source": [
    "x2 = test.loc[: , ['num_critic_for_reviews', 'duration', 'director_facebook_likes', 'actor_3_facebook_likes', 'actor_1_facebook_likes', 'gross', 'num_voted_users', 'cast_total_facebook_likes', 'facenumber_in_poster', 'num_user_for_reviews', 'content_rating', 'budget', 'title_year', 'actor_2_facebook_likes', 'aspect_ratio', 'movie_facebook_likes']]\n",
    "y2 = test.loc[:, 'imdb_score']"
   ]
  },
  {
   "cell_type": "code",
   "execution_count": 404,
   "metadata": {},
   "outputs": [],
   "source": [
    "x2=sm1.add_constant(x2)"
   ]
  },
  {
   "cell_type": "code",
   "execution_count": 405,
   "metadata": {},
   "outputs": [
    {
     "data": {
      "text/html": [
       "<table class=\"simpletable\">\n",
       "<caption>OLS Regression Results</caption>\n",
       "<tr>\n",
       "  <th>Dep. Variable:</th>           <td>y2</td>        <th>  R-squared:         </th> <td>   0.334</td>\n",
       "</tr>\n",
       "<tr>\n",
       "  <th>Model:</th>                   <td>OLS</td>       <th>  Adj. R-squared:    </th> <td>   0.322</td>\n",
       "</tr>\n",
       "<tr>\n",
       "  <th>Method:</th>             <td>Least Squares</td>  <th>  F-statistic:       </th> <td>   26.16</td>\n",
       "</tr>\n",
       "<tr>\n",
       "  <th>Date:</th>             <td>Sun, 17 Nov 2019</td> <th>  Prob (F-statistic):</th> <td>3.06e-59</td>\n",
       "</tr>\n",
       "<tr>\n",
       "  <th>Time:</th>                 <td>23:07:13</td>     <th>  Log-Likelihood:    </th> <td> -838.54</td>\n",
       "</tr>\n",
       "<tr>\n",
       "  <th>No. Observations:</th>      <td>   797</td>      <th>  AIC:               </th> <td>   1709.</td>\n",
       "</tr>\n",
       "<tr>\n",
       "  <th>Df Residuals:</th>          <td>   781</td>      <th>  BIC:               </th> <td>   1784.</td>\n",
       "</tr>\n",
       "<tr>\n",
       "  <th>Df Model:</th>              <td>    15</td>      <th>                     </th>     <td> </td>   \n",
       "</tr>\n",
       "<tr>\n",
       "  <th>Covariance Type:</th>      <td>nonrobust</td>    <th>                     </th>     <td> </td>   \n",
       "</tr>\n",
       "</table>\n",
       "<table class=\"simpletable\">\n",
       "<tr>\n",
       "      <td></td>         <th>coef</th>     <th>std err</th>      <th>t</th>      <th>P>|t|</th>  <th>[0.025</th>    <th>0.975]</th>  \n",
       "</tr>\n",
       "<tr>\n",
       "  <th>Intercept</th> <td>   14.7558</td> <td>    4.947</td> <td>    2.983</td> <td> 0.003</td> <td>    5.045</td> <td>   24.466</td>\n",
       "</tr>\n",
       "<tr>\n",
       "  <th>x2[0]</th>     <td>   14.7558</td> <td>    4.947</td> <td>    2.983</td> <td> 0.003</td> <td>    5.045</td> <td>   24.466</td>\n",
       "</tr>\n",
       "<tr>\n",
       "  <th>x2[1]</th>     <td>    0.0010</td> <td>    0.001</td> <td>    1.824</td> <td> 0.068</td> <td>-7.78e-05</td> <td>    0.002</td>\n",
       "</tr>\n",
       "<tr>\n",
       "  <th>x2[2]</th>     <td>    0.0179</td> <td>    0.002</td> <td>   10.041</td> <td> 0.000</td> <td>    0.014</td> <td>    0.021</td>\n",
       "</tr>\n",
       "<tr>\n",
       "  <th>x2[3]</th>     <td>    0.0003</td> <td>    0.000</td> <td>    1.613</td> <td> 0.107</td> <td> -7.3e-05</td> <td>    0.001</td>\n",
       "</tr>\n",
       "<tr>\n",
       "  <th>x2[4]</th>     <td>    0.0002</td> <td>    0.000</td> <td>    0.826</td> <td> 0.409</td> <td>   -0.000</td> <td>    0.001</td>\n",
       "</tr>\n",
       "<tr>\n",
       "  <th>x2[5]</th>     <td>    0.0002</td> <td> 5.58e-05</td> <td>    3.216</td> <td> 0.001</td> <td>    7e-05</td> <td>    0.000</td>\n",
       "</tr>\n",
       "<tr>\n",
       "  <th>x2[6]</th>     <td>-2.455e-09</td> <td> 1.12e-09</td> <td>   -2.183</td> <td> 0.029</td> <td>-4.66e-09</td> <td>-2.47e-10</td>\n",
       "</tr>\n",
       "<tr>\n",
       "  <th>x2[7]</th>     <td> 6.747e-06</td> <td> 9.11e-07</td> <td>    7.407</td> <td> 0.000</td> <td> 4.96e-06</td> <td> 8.53e-06</td>\n",
       "</tr>\n",
       "<tr>\n",
       "  <th>x2[8]</th>     <td>   -0.0002</td> <td> 5.57e-05</td> <td>   -3.018</td> <td> 0.003</td> <td>   -0.000</td> <td>-5.88e-05</td>\n",
       "</tr>\n",
       "<tr>\n",
       "  <th>x2[9]</th>     <td>   -0.0203</td> <td>    0.020</td> <td>   -1.009</td> <td> 0.313</td> <td>   -0.060</td> <td>    0.019</td>\n",
       "</tr>\n",
       "<tr>\n",
       "  <th>x2[10]</th>    <td>   -0.0005</td> <td>    0.000</td> <td>   -1.948</td> <td> 0.052</td> <td>   -0.001</td> <td> 3.72e-06</td>\n",
       "</tr>\n",
       "<tr>\n",
       "  <th>x2[11]</th>    <td>-1.689e-13</td> <td> 5.66e-14</td> <td>   -2.982</td> <td> 0.003</td> <td> -2.8e-13</td> <td>-5.77e-14</td>\n",
       "</tr>\n",
       "<tr>\n",
       "  <th>x2[12]</th>    <td>-1.369e-08</td> <td> 1.36e-09</td> <td>  -10.092</td> <td> 0.000</td> <td>-1.63e-08</td> <td> -1.1e-08</td>\n",
       "</tr>\n",
       "<tr>\n",
       "  <th>x2[13]</th>    <td>   -0.0124</td> <td>    0.005</td> <td>   -2.506</td> <td> 0.012</td> <td>   -0.022</td> <td>   -0.003</td>\n",
       "</tr>\n",
       "<tr>\n",
       "  <th>x2[14]</th>    <td>-9.082e-05</td> <td>    0.000</td> <td>   -0.591</td> <td> 0.555</td> <td>   -0.000</td> <td>    0.000</td>\n",
       "</tr>\n",
       "<tr>\n",
       "  <th>x2[15]</th>    <td>    0.0413</td> <td>    0.102</td> <td>    0.404</td> <td> 0.686</td> <td>   -0.160</td> <td>    0.242</td>\n",
       "</tr>\n",
       "<tr>\n",
       "  <th>x2[16]</th>    <td> 6.616e-06</td> <td> 5.48e-06</td> <td>    1.207</td> <td> 0.228</td> <td>-4.14e-06</td> <td> 1.74e-05</td>\n",
       "</tr>\n",
       "</table>\n",
       "<table class=\"simpletable\">\n",
       "<tr>\n",
       "  <th>Omnibus:</th>       <td>12.961</td> <th>  Durbin-Watson:     </th> <td>   1.951</td>\n",
       "</tr>\n",
       "<tr>\n",
       "  <th>Prob(Omnibus):</th> <td> 0.002</td> <th>  Jarque-Bera (JB):  </th> <td>  13.379</td>\n",
       "</tr>\n",
       "<tr>\n",
       "  <th>Skew:</th>          <td>-0.316</td> <th>  Prob(JB):          </th> <td> 0.00124</td>\n",
       "</tr>\n",
       "<tr>\n",
       "  <th>Kurtosis:</th>      <td> 2.951</td> <th>  Cond. No.          </th> <td>8.05e+22</td>\n",
       "</tr>\n",
       "</table><br/><br/>Warnings:<br/>[1] Standard Errors assume that the covariance matrix of the errors is correctly specified.<br/>[2] The smallest eigenvalue is 3.34e-28. This might indicate that there are<br/>strong multicollinearity problems or that the design matrix is singular."
      ],
      "text/plain": [
       "<class 'statsmodels.iolib.summary.Summary'>\n",
       "\"\"\"\n",
       "                            OLS Regression Results                            \n",
       "==============================================================================\n",
       "Dep. Variable:                     y2   R-squared:                       0.334\n",
       "Model:                            OLS   Adj. R-squared:                  0.322\n",
       "Method:                 Least Squares   F-statistic:                     26.16\n",
       "Date:                Sun, 17 Nov 2019   Prob (F-statistic):           3.06e-59\n",
       "Time:                        23:07:13   Log-Likelihood:                -838.54\n",
       "No. Observations:                 797   AIC:                             1709.\n",
       "Df Residuals:                     781   BIC:                             1784.\n",
       "Df Model:                          15                                         \n",
       "Covariance Type:            nonrobust                                         \n",
       "==============================================================================\n",
       "                 coef    std err          t      P>|t|      [0.025      0.975]\n",
       "------------------------------------------------------------------------------\n",
       "Intercept     14.7558      4.947      2.983      0.003       5.045      24.466\n",
       "x2[0]         14.7558      4.947      2.983      0.003       5.045      24.466\n",
       "x2[1]          0.0010      0.001      1.824      0.068   -7.78e-05       0.002\n",
       "x2[2]          0.0179      0.002     10.041      0.000       0.014       0.021\n",
       "x2[3]          0.0003      0.000      1.613      0.107    -7.3e-05       0.001\n",
       "x2[4]          0.0002      0.000      0.826      0.409      -0.000       0.001\n",
       "x2[5]          0.0002   5.58e-05      3.216      0.001       7e-05       0.000\n",
       "x2[6]      -2.455e-09   1.12e-09     -2.183      0.029   -4.66e-09   -2.47e-10\n",
       "x2[7]       6.747e-06   9.11e-07      7.407      0.000    4.96e-06    8.53e-06\n",
       "x2[8]         -0.0002   5.57e-05     -3.018      0.003      -0.000   -5.88e-05\n",
       "x2[9]         -0.0203      0.020     -1.009      0.313      -0.060       0.019\n",
       "x2[10]        -0.0005      0.000     -1.948      0.052      -0.001    3.72e-06\n",
       "x2[11]     -1.689e-13   5.66e-14     -2.982      0.003    -2.8e-13   -5.77e-14\n",
       "x2[12]     -1.369e-08   1.36e-09    -10.092      0.000   -1.63e-08    -1.1e-08\n",
       "x2[13]        -0.0124      0.005     -2.506      0.012      -0.022      -0.003\n",
       "x2[14]     -9.082e-05      0.000     -0.591      0.555      -0.000       0.000\n",
       "x2[15]         0.0413      0.102      0.404      0.686      -0.160       0.242\n",
       "x2[16]      6.616e-06   5.48e-06      1.207      0.228   -4.14e-06    1.74e-05\n",
       "==============================================================================\n",
       "Omnibus:                       12.961   Durbin-Watson:                   1.951\n",
       "Prob(Omnibus):                  0.002   Jarque-Bera (JB):               13.379\n",
       "Skew:                          -0.316   Prob(JB):                      0.00124\n",
       "Kurtosis:                       2.951   Cond. No.                     8.05e+22\n",
       "==============================================================================\n",
       "\n",
       "Warnings:\n",
       "[1] Standard Errors assume that the covariance matrix of the errors is correctly specified.\n",
       "[2] The smallest eigenvalue is 3.34e-28. This might indicate that there are\n",
       "strong multicollinearity problems or that the design matrix is singular.\n",
       "\"\"\""
      ]
     },
     "execution_count": 405,
     "metadata": {},
     "output_type": "execute_result"
    }
   ],
   "source": [
    "mod2 = sm.ols('y2 ~ x2',test).fit()\n",
    "mod2.summary()"
   ]
  },
  {
   "cell_type": "markdown",
   "metadata": {},
   "source": [
    "### I have tried everything I can think of and this is the best I have been able to come up with. I removed all of the missing values and I found and got rid of outliers that may have thrown off the model. I also found the correlation between the different columns and imdb_score hoping to see if there were any columns throwing the model off. I also added a constant hoping to increase the accuracy but it did not seem to affect the accuracy."
   ]
  },
  {
   "cell_type": "markdown",
   "metadata": {},
   "source": [
    "### Problem 2\n",
    "Using the same data as in problem 1 ( the one you get after cleaning and other preprocessing), change the column 'imdb_score' as 'imdb_labels' in the following way.\n",
    "\n",
    "imdb_score $\\geq 8$ - excellent,\n",
    "\n",
    "$6\\leq$ imdb_score $<8$ - good,\n",
    "\n",
    "$4\\leq$ imdb_score $<6$ - average,\n",
    "\n",
    "$2\\leq$ imdb_score $<4$ - mediocre,\n",
    "\n",
    " imdb_score $<2$ - bad,\n",
    " \n",
    "By dividing the data to test and train with an appropriate rule, train 2 classifiction models using logistic and k-NN. Report testing and training accuracy scores for both models together with their confusion matrices. Which one outperforms the other and why? (40 points)"
   ]
  },
  {
   "cell_type": "code",
   "execution_count": 406,
   "metadata": {},
   "outputs": [],
   "source": [
    "a='excellent'\n",
    "b='good'\n",
    "c='average'\n",
    "d='mediocre'\n",
    "e='bad'"
   ]
  },
  {
   "cell_type": "code",
   "execution_count": 407,
   "metadata": {},
   "outputs": [],
   "source": [
    "def score(n) -> str:\n",
    "    if n >= 8:\n",
    "        return a\n",
    "    elif n >= 6:\n",
    "        return b\n",
    "    elif n>= 4:\n",
    "        return c\n",
    "    elif n>= 2:\n",
    "        return d\n",
    "    else:\n",
    "        return e"
   ]
  },
  {
   "cell_type": "code",
   "execution_count": 408,
   "metadata": {},
   "outputs": [],
   "source": [
    "#md_numerical.rename(columns = {'imdb_score':'imdb_labels'})\n"
   ]
  },
  {
   "cell_type": "code",
   "execution_count": 409,
   "metadata": {},
   "outputs": [],
   "source": [
    "md_numerical['imdb_labels']=[score(n) for n in md_numerical['imdb_score']]"
   ]
  },
  {
   "cell_type": "code",
   "execution_count": 410,
   "metadata": {},
   "outputs": [],
   "source": [
    "md_numerical1 = md_numerical.drop(['imdb_score'], axis=1)"
   ]
  },
  {
   "cell_type": "code",
   "execution_count": 411,
   "metadata": {},
   "outputs": [
    {
     "data": {
      "text/html": [
       "<div>\n",
       "<style scoped>\n",
       "    .dataframe tbody tr th:only-of-type {\n",
       "        vertical-align: middle;\n",
       "    }\n",
       "\n",
       "    .dataframe tbody tr th {\n",
       "        vertical-align: top;\n",
       "    }\n",
       "\n",
       "    .dataframe thead th {\n",
       "        text-align: right;\n",
       "    }\n",
       "</style>\n",
       "<table border=\"1\" class=\"dataframe\">\n",
       "  <thead>\n",
       "    <tr style=\"text-align: right;\">\n",
       "      <th></th>\n",
       "      <th>num_critic_for_reviews</th>\n",
       "      <th>duration</th>\n",
       "      <th>director_facebook_likes</th>\n",
       "      <th>actor_3_facebook_likes</th>\n",
       "      <th>actor_1_facebook_likes</th>\n",
       "      <th>gross</th>\n",
       "      <th>num_voted_users</th>\n",
       "      <th>cast_total_facebook_likes</th>\n",
       "      <th>facenumber_in_poster</th>\n",
       "      <th>num_user_for_reviews</th>\n",
       "      <th>content_rating</th>\n",
       "      <th>budget</th>\n",
       "      <th>title_year</th>\n",
       "      <th>actor_2_facebook_likes</th>\n",
       "      <th>aspect_ratio</th>\n",
       "      <th>movie_facebook_likes</th>\n",
       "      <th>imdb_labels</th>\n",
       "    </tr>\n",
       "  </thead>\n",
       "  <tbody>\n",
       "    <tr>\n",
       "      <th>157</th>\n",
       "      <td>135.0</td>\n",
       "      <td>90.0</td>\n",
       "      <td>23.0</td>\n",
       "      <td>233.0</td>\n",
       "      <td>957.0</td>\n",
       "      <td>110332737.0</td>\n",
       "      <td>110788</td>\n",
       "      <td>1997</td>\n",
       "      <td>1.0</td>\n",
       "      <td>258.0</td>\n",
       "      <td>0</td>\n",
       "      <td>100000000.0</td>\n",
       "      <td>2005.0</td>\n",
       "      <td>550.0</td>\n",
       "      <td>2.35</td>\n",
       "      <td>2000</td>\n",
       "      <td>good</td>\n",
       "    </tr>\n",
       "    <tr>\n",
       "      <th>192</th>\n",
       "      <td>330.0</td>\n",
       "      <td>101.0</td>\n",
       "      <td>176.0</td>\n",
       "      <td>282.0</td>\n",
       "      <td>11000.0</td>\n",
       "      <td>118311368.0</td>\n",
       "      <td>245621</td>\n",
       "      <td>12406</td>\n",
       "      <td>1.0</td>\n",
       "      <td>514.0</td>\n",
       "      <td>0</td>\n",
       "      <td>110000000.0</td>\n",
       "      <td>2010.0</td>\n",
       "      <td>702.0</td>\n",
       "      <td>2.35</td>\n",
       "      <td>23000</td>\n",
       "      <td>good</td>\n",
       "    </tr>\n",
       "    <tr>\n",
       "      <th>209</th>\n",
       "      <td>159.0</td>\n",
       "      <td>101.0</td>\n",
       "      <td>107.0</td>\n",
       "      <td>56.0</td>\n",
       "      <td>688.0</td>\n",
       "      <td>131536019.0</td>\n",
       "      <td>58498</td>\n",
       "      <td>1031</td>\n",
       "      <td>0.0</td>\n",
       "      <td>99.0</td>\n",
       "      <td>0</td>\n",
       "      <td>103000000.0</td>\n",
       "      <td>2014.0</td>\n",
       "      <td>237.0</td>\n",
       "      <td>2.35</td>\n",
       "      <td>0</td>\n",
       "      <td>good</td>\n",
       "    </tr>\n",
       "    <tr>\n",
       "      <th>215</th>\n",
       "      <td>85.0</td>\n",
       "      <td>102.0</td>\n",
       "      <td>323.0</td>\n",
       "      <td>241.0</td>\n",
       "      <td>845.0</td>\n",
       "      <td>32694788.0</td>\n",
       "      <td>101411</td>\n",
       "      <td>1815</td>\n",
       "      <td>1.0</td>\n",
       "      <td>546.0</td>\n",
       "      <td>0</td>\n",
       "      <td>85000000.0</td>\n",
       "      <td>1999.0</td>\n",
       "      <td>372.0</td>\n",
       "      <td>2.35</td>\n",
       "      <td>0</td>\n",
       "      <td>good</td>\n",
       "    </tr>\n",
       "    <tr>\n",
       "      <th>224</th>\n",
       "      <td>276.0</td>\n",
       "      <td>123.0</td>\n",
       "      <td>160.0</td>\n",
       "      <td>402.0</td>\n",
       "      <td>12000.0</td>\n",
       "      <td>115802596.0</td>\n",
       "      <td>182661</td>\n",
       "      <td>14017</td>\n",
       "      <td>1.0</td>\n",
       "      <td>681.0</td>\n",
       "      <td>0</td>\n",
       "      <td>110000000.0</td>\n",
       "      <td>2007.0</td>\n",
       "      <td>701.0</td>\n",
       "      <td>2.35</td>\n",
       "      <td>0</td>\n",
       "      <td>average</td>\n",
       "    </tr>\n",
       "  </tbody>\n",
       "</table>\n",
       "</div>"
      ],
      "text/plain": [
       "     num_critic_for_reviews  duration  director_facebook_likes  \\\n",
       "157                   135.0      90.0                     23.0   \n",
       "192                   330.0     101.0                    176.0   \n",
       "209                   159.0     101.0                    107.0   \n",
       "215                    85.0     102.0                    323.0   \n",
       "224                   276.0     123.0                    160.0   \n",
       "\n",
       "     actor_3_facebook_likes  actor_1_facebook_likes        gross  \\\n",
       "157                   233.0                   957.0  110332737.0   \n",
       "192                   282.0                 11000.0  118311368.0   \n",
       "209                    56.0                   688.0  131536019.0   \n",
       "215                   241.0                   845.0   32694788.0   \n",
       "224                   402.0                 12000.0  115802596.0   \n",
       "\n",
       "     num_voted_users  cast_total_facebook_likes  facenumber_in_poster  \\\n",
       "157           110788                       1997                   1.0   \n",
       "192           245621                      12406                   1.0   \n",
       "209            58498                       1031                   0.0   \n",
       "215           101411                       1815                   1.0   \n",
       "224           182661                      14017                   1.0   \n",
       "\n",
       "     num_user_for_reviews  content_rating       budget  title_year  \\\n",
       "157                 258.0               0  100000000.0      2005.0   \n",
       "192                 514.0               0  110000000.0      2010.0   \n",
       "209                  99.0               0  103000000.0      2014.0   \n",
       "215                 546.0               0   85000000.0      1999.0   \n",
       "224                 681.0               0  110000000.0      2007.0   \n",
       "\n",
       "     actor_2_facebook_likes  aspect_ratio  movie_facebook_likes imdb_labels  \n",
       "157                   550.0          2.35                  2000        good  \n",
       "192                   702.0          2.35                 23000        good  \n",
       "209                   237.0          2.35                     0        good  \n",
       "215                   372.0          2.35                     0        good  \n",
       "224                   701.0          2.35                     0     average  "
      ]
     },
     "execution_count": 411,
     "metadata": {},
     "output_type": "execute_result"
    }
   ],
   "source": [
    "md_numerical1.head()"
   ]
  },
  {
   "cell_type": "code",
   "execution_count": 412,
   "metadata": {},
   "outputs": [],
   "source": [
    "x = md_numerical1.loc[: , ['num_critic_for_reviews', 'duration', 'director_facebook_likes', 'actor_3_facebook_likes', 'actor_1_facebook_likes', 'gross', 'num_voted_users', 'cast_total_facebook_likes', 'num_user_for_reviews', 'content_rating', 'budget', 'actor_2_facebook_likes', 'aspect_ratio', 'movie_facebook_likes']]\n",
    "y = md_numerical1.loc[:, 'imdb_labels']"
   ]
  },
  {
   "cell_type": "code",
   "execution_count": 413,
   "metadata": {},
   "outputs": [
    {
     "name": "stdout",
     "output_type": "stream",
     "text": [
      "Accuracy: 0.6625916870415648\n",
      "[[ 52   0  87]\n",
      " [  0   0   4]\n",
      " [ 47   0 219]]\n"
     ]
    },
    {
     "name": "stderr",
     "output_type": "stream",
     "text": [
      "C:\\Users\\bman1\\Anaconda3\\lib\\site-packages\\sklearn\\linear_model\\logistic.py:469: FutureWarning: Default multi_class will be changed to 'auto' in 0.22. Specify the multi_class option to silence this warning.\n",
      "  \"this warning.\", FutureWarning)\n",
      "C:\\Users\\bman1\\Anaconda3\\lib\\site-packages\\sklearn\\linear_model\\logistic.py:947: ConvergenceWarning: lbfgs failed to converge. Increase the number of iterations.\n",
      "  \"of iterations.\", ConvergenceWarning)\n"
     ]
    }
   ],
   "source": [
    "x1train, x1test, y1train, y1test = train_test_split(x, y, test_size=0.2)\n",
    "lrmodel_1 = LogisticRegression(solver='lbfgs')\n",
    "lrmodel_1.fit(x1train, y1train)\n",
    "ypredlr_1 = lrmodel_1.predict(x1test)\n",
    "ypredlr_1\n",
    "print(\"Accuracy:\",metrics.accuracy_score(y1test, ypredlr_1))\n",
    "print(confusion_matrix(y1test, ypredlr_1))"
   ]
  },
  {
   "cell_type": "code",
   "execution_count": 414,
   "metadata": {},
   "outputs": [
    {
     "name": "stdout",
     "output_type": "stream",
     "text": [
      "Training Accuracy:\n",
      "Accuracy: 0.6210268948655256\n",
      "[[ 36   0 103]\n",
      " [  0   0   4]\n",
      " [ 48   0 218]]\n",
      "\n",
      "Testing Accuracy:\n",
      "Accuracy: 0.6854345165238678\n",
      "[[162   0 394]\n",
      " [  2   0  13]\n",
      " [105   0 958]]\n"
     ]
    }
   ],
   "source": [
    "knnmodel = KNeighborsClassifier(n_neighbors=15)\n",
    "knnmodel.fit(x1train,y1train)\n",
    "ypred= knnmodel.predict(x1test)\n",
    "print('Training Accuracy:')\n",
    "print(\"Accuracy:\",metrics.accuracy_score(y1test, ypred))\n",
    "print(confusion_matrix(y1test, ypred))\n",
    "\n",
    "print('')\n",
    "\n",
    "ypred1= knnmodel.predict(x1train)\n",
    "print('Testing Accuracy:')\n",
    "print(\"Accuracy:\",metrics.accuracy_score(y1train, ypred1))\n",
    "print(confusion_matrix(y1train, ypred1))"
   ]
  },
  {
   "cell_type": "markdown",
   "metadata": {},
   "source": [
    "### Problme 3\n",
    "Use the data you get at the end of problem 1 (after preprocessing and cleaning). Remove the imdb_score column. Train  Kmeans algorithm ( no need to split in test and train) and find 5 clusters. While we tried to use clustering as a classification in our lab,  it is not usualy done so. Also, Clustering algorithm just finds clusters and we do not usually find the accuracy for this. A lot of times, the clusters it finds has nothing to do with the response variable labels.  Once you find five clusters, plot 5 clusters with 5 different colors. Please pick num_voted_users in x axis and duration in y axis.(20 points)"
   ]
  },
  {
   "cell_type": "code",
   "execution_count": 415,
   "metadata": {},
   "outputs": [],
   "source": [
    "kmeans = KMeans(n_clusters=5)\n",
    "kmeans.fit(x)\n",
    "y_kmeans = kmeans.predict(x)"
   ]
  },
  {
   "cell_type": "code",
   "execution_count": 416,
   "metadata": {},
   "outputs": [
    {
     "data": {
      "text/plain": [
       "array([3, 3, 3, ..., 0, 0, 0])"
      ]
     },
     "execution_count": 416,
     "metadata": {},
     "output_type": "execute_result"
    }
   ],
   "source": [
    "y_kmeans"
   ]
  },
  {
   "cell_type": "code",
   "execution_count": 1,
   "metadata": {},
   "outputs": [
    {
     "ename": "NameError",
     "evalue": "name 'np' is not defined",
     "output_type": "error",
     "traceback": [
      "\u001b[1;31m---------------------------------------------------------------------------\u001b[0m",
      "\u001b[1;31mNameError\u001b[0m                                 Traceback (most recent call last)",
      "\u001b[1;32m<ipython-input-1-10c9bf264060>\u001b[0m in \u001b[0;36m<module>\u001b[1;34m\u001b[0m\n\u001b[1;32m----> 1\u001b[1;33m \u001b[0mx\u001b[0m\u001b[1;33m=\u001b[0m\u001b[0mnp\u001b[0m\u001b[1;33m.\u001b[0m\u001b[0marray\u001b[0m\u001b[1;33m(\u001b[0m\u001b[0mx\u001b[0m\u001b[1;33m)\u001b[0m\u001b[1;33m\u001b[0m\u001b[1;33m\u001b[0m\u001b[0m\n\u001b[0m\u001b[0;32m      2\u001b[0m \u001b[0mplt\u001b[0m\u001b[1;33m.\u001b[0m\u001b[0mscatter\u001b[0m\u001b[1;33m(\u001b[0m\u001b[0mx\u001b[0m\u001b[1;33m[\u001b[0m\u001b[1;34m'num_voted_users'\u001b[0m\u001b[1;33m]\u001b[0m\u001b[1;33m,\u001b[0m \u001b[0mx\u001b[0m\u001b[1;33m[\u001b[0m\u001b[1;34m'duration'\u001b[0m\u001b[1;33m]\u001b[0m\u001b[1;33m,\u001b[0m \u001b[0mc\u001b[0m\u001b[1;33m=\u001b[0m\u001b[0my_kmeans\u001b[0m\u001b[1;33m,\u001b[0m \u001b[0ms\u001b[0m\u001b[1;33m=\u001b[0m\u001b[1;36m50\u001b[0m\u001b[1;33m,\u001b[0m \u001b[0mcmap\u001b[0m\u001b[1;33m=\u001b[0m\u001b[1;34m'viridis'\u001b[0m\u001b[1;33m)\u001b[0m\u001b[1;33m\u001b[0m\u001b[1;33m\u001b[0m\u001b[0m\n\u001b[0;32m      3\u001b[0m \u001b[0mcenters\u001b[0m \u001b[1;33m=\u001b[0m \u001b[0mkmeans\u001b[0m\u001b[1;33m.\u001b[0m\u001b[0mcluster_centers_\u001b[0m\u001b[1;33m\u001b[0m\u001b[1;33m\u001b[0m\u001b[0m\n\u001b[0;32m      4\u001b[0m \u001b[0mplt\u001b[0m\u001b[1;33m.\u001b[0m\u001b[0mscatter\u001b[0m\u001b[1;33m(\u001b[0m\u001b[0mcenters\u001b[0m\u001b[1;33m[\u001b[0m\u001b[1;33m:\u001b[0m\u001b[1;33m,\u001b[0m \u001b[1;36m0\u001b[0m\u001b[1;33m]\u001b[0m\u001b[1;33m,\u001b[0m \u001b[0mcenters\u001b[0m\u001b[1;33m[\u001b[0m\u001b[1;33m:\u001b[0m\u001b[1;33m,\u001b[0m \u001b[1;36m1\u001b[0m\u001b[1;33m]\u001b[0m\u001b[1;33m,\u001b[0m \u001b[0mc\u001b[0m\u001b[1;33m=\u001b[0m\u001b[1;34m'black'\u001b[0m\u001b[1;33m,\u001b[0m \u001b[0ms\u001b[0m\u001b[1;33m=\u001b[0m\u001b[1;36m200\u001b[0m\u001b[1;33m,\u001b[0m \u001b[0malpha\u001b[0m\u001b[1;33m=\u001b[0m\u001b[1;36m0.5\u001b[0m\u001b[1;33m)\u001b[0m\u001b[1;33m;\u001b[0m\u001b[1;33m\u001b[0m\u001b[1;33m\u001b[0m\u001b[0m\n",
      "\u001b[1;31mNameError\u001b[0m: name 'np' is not defined"
     ]
    }
   ],
   "source": [
    "x=np.array(x)\n",
    "plt.scatter(x['num_voted_users'], x['duration'], c=y_kmeans, s=50, cmap='viridis')\n",
    "centers = kmeans.cluster_centers_\n",
    "plt.scatter(centers[:, 0], centers[:, 1], c='black', s=200, alpha=0.5);"
   ]
  },
  {
   "cell_type": "code",
   "execution_count": null,
   "metadata": {},
   "outputs": [],
   "source": []
  }
 ],
 "metadata": {
  "kernelspec": {
   "display_name": "Python 3",
   "language": "python",
   "name": "python3"
  },
  "language_info": {
   "codemirror_mode": {
    "name": "ipython",
    "version": 3
   },
   "file_extension": ".py",
   "mimetype": "text/x-python",
   "name": "python",
   "nbconvert_exporter": "python",
   "pygments_lexer": "ipython3",
   "version": "3.7.3"
  }
 },
 "nbformat": 4,
 "nbformat_minor": 2
}
